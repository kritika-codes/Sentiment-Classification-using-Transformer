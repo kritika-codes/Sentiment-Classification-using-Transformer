{
  "cells": [
    {
      "cell_type": "markdown",
      "metadata": {
        "id": "KYaX3rbC4gcq"
      },
      "source": [
        "# **Sentiment Classification using Transformers**"
      ]
    },
    {
      "cell_type": "code",
      "execution_count": 1,
      "metadata": {
        "colab": {
          "base_uri": "https://localhost:8080/"
        },
        "collapsed": true,
        "id": "da90NEL5Gp5_",
        "outputId": "2ffa659b-72f1-4a73-8fd3-bc89ac054a7a"
      },
      "outputs": [
        {
          "name": "stdout",
          "output_type": "stream",
          "text": [
            "\u001b[2K     \u001b[90m━━━━━━━━━━━━━━━━━━━━━━━━━━━━━━━━━━━━━━━\u001b[0m \u001b[32m116.9/116.9 kB\u001b[0m \u001b[31m3.8 MB/s\u001b[0m eta \u001b[36m0:00:00\u001b[0m\n",
            "\u001b[2K   \u001b[90m━━━━━━━━━━━━━━━━━━━━━━━━━━━━━━━━━━━━━━━━\u001b[0m \u001b[32m7.4/7.4 MB\u001b[0m \u001b[31m37.6 MB/s\u001b[0m eta \u001b[36m0:00:00\u001b[0m\n",
            "\u001b[2K   \u001b[90m━━━━━━━━━━━━━━━━━━━━━━━━━━━━━━━━━━━━━━━━\u001b[0m \u001b[32m7.8/7.8 MB\u001b[0m \u001b[31m31.3 MB/s\u001b[0m eta \u001b[36m0:00:00\u001b[0m\n",
            "\u001b[?25h\u001b[31mERROR: pip's dependency resolver does not currently take into account all the packages that are installed. This behaviour is the source of the following dependency conflicts.\n",
            "sentence-transformers 3.4.1 requires transformers<5.0.0,>=4.41.0, but you have transformers 4.31.0 which is incompatible.\u001b[0m\u001b[31m\n",
            "\u001b[0m"
          ]
        }
      ],
      "source": [
        "!pip install -q transformers==4.31.0"
      ]
    },
    {
      "cell_type": "code",
      "execution_count": 2,
      "metadata": {
        "colab": {
          "base_uri": "https://localhost:8080/"
        },
        "collapsed": true,
        "id": "xPAstpmoPl-n",
        "outputId": "e6907f54-08cb-4d84-9ab6-5d407d94cbba"
      },
      "outputs": [
        {
          "name": "stdout",
          "output_type": "stream",
          "text": [
            "\u001b[2K     \u001b[90m━━━━━━━━━━━━━━━━━━━━━━━━━━━━━━━━━━━━━━━━\u001b[0m \u001b[32m23.2/23.2 MB\u001b[0m \u001b[31m39.5 MB/s\u001b[0m eta \u001b[36m0:00:00\u001b[0m\n",
            "\u001b[2K     \u001b[90m━━━━━━━━━━━━━━━━━━━━━━━━━━━━━━━━━━━━━━\u001b[0m \u001b[32m875.6/875.6 kB\u001b[0m \u001b[31m32.7 MB/s\u001b[0m eta \u001b[36m0:00:00\u001b[0m\n",
            "\u001b[2K     \u001b[90m━━━━━━━━━━━━━━━━━━━━━━━━━━━━━━━━━━━━━━━━\u001b[0m \u001b[32m13.1/13.1 MB\u001b[0m \u001b[31m41.8 MB/s\u001b[0m eta \u001b[36m0:00:00\u001b[0m\n",
            "\u001b[2K     \u001b[90m━━━━━━━━━━━━━━━━━━━━━━━━━━━━━━━━━━━━━━━\u001b[0m \u001b[32m663.9/663.9 MB\u001b[0m \u001b[31m1.6 MB/s\u001b[0m eta \u001b[36m0:00:00\u001b[0m\n",
            "\u001b[2K     \u001b[90m━━━━━━━━━━━━━━━━━━━━━━━━━━━━━━━━━━━━━━━\u001b[0m \u001b[32m417.9/417.9 MB\u001b[0m \u001b[31m4.1 MB/s\u001b[0m eta \u001b[36m0:00:00\u001b[0m\n",
            "\u001b[2K     \u001b[90m━━━━━━━━━━━━━━━━━━━━━━━━━━━━━━━━━━━━━━━\u001b[0m \u001b[32m168.4/168.4 MB\u001b[0m \u001b[31m6.6 MB/s\u001b[0m eta \u001b[36m0:00:00\u001b[0m\n",
            "\u001b[2K     \u001b[90m━━━━━━━━━━━━━━━━━━━━━━━━━━━━━━━━━━━━━━━━\u001b[0m \u001b[32m58.1/58.1 MB\u001b[0m \u001b[31m12.9 MB/s\u001b[0m eta \u001b[36m0:00:00\u001b[0m\n",
            "\u001b[2K     \u001b[90m━━━━━━━━━━━━━━━━━━━━━━━━━━━━━━━━━━━━━━━\u001b[0m \u001b[32m128.2/128.2 MB\u001b[0m \u001b[31m7.5 MB/s\u001b[0m eta \u001b[36m0:00:00\u001b[0m\n",
            "\u001b[2K     \u001b[90m━━━━━━━━━━━━━━━━━━━━━━━━━━━━━━━━━━━━━━━\u001b[0m \u001b[32m204.1/204.1 MB\u001b[0m \u001b[31m6.4 MB/s\u001b[0m eta \u001b[36m0:00:00\u001b[0m\n",
            "\u001b[2K     \u001b[90m━━━━━━━━━━━━━━━━━━━━━━━━━━━━━━━━━━━━━━━\u001b[0m \u001b[32m147.8/147.8 MB\u001b[0m \u001b[31m7.4 MB/s\u001b[0m eta \u001b[36m0:00:00\u001b[0m\n",
            "\u001b[2K     \u001b[90m━━━━━━━━━━━━━━━━━━━━━━━━━━━━━━━━━━━━━━━━\u001b[0m \u001b[32m99.1/99.1 kB\u001b[0m \u001b[31m8.8 MB/s\u001b[0m eta \u001b[36m0:00:00\u001b[0m\n",
            "\u001b[2K   \u001b[90m━━━━━━━━━━━━━━━━━━━━━━━━━━━━━━━━━━━━━━━━\u001b[0m \u001b[32m848.7/848.7 MB\u001b[0m \u001b[31m1.2 MB/s\u001b[0m eta \u001b[36m0:00:00\u001b[0m\n",
            "\u001b[?25h\u001b[31mERROR: pip's dependency resolver does not currently take into account all the packages that are installed. This behaviour is the source of the following dependency conflicts.\n",
            "sentence-transformers 3.4.1 requires transformers<5.0.0,>=4.41.0, but you have transformers 4.31.0 which is incompatible.\u001b[0m\u001b[31m\n",
            "\u001b[2K   \u001b[90m━━━━━━━━━━━━━━━━━━━━━━━━━━━━━━━━━━━━━━━━\u001b[0m \u001b[32m2.0/2.0 MB\u001b[0m \u001b[31m39.2 MB/s\u001b[0m eta \u001b[36m0:00:00\u001b[0m\n",
            "\u001b[2K   \u001b[90m━━━━━━━━━━━━━━━━━━━━━━━━━━━━━━━━━━━━━━━━\u001b[0m \u001b[32m619.9/619.9 MB\u001b[0m \u001b[31m2.9 MB/s\u001b[0m eta \u001b[36m0:00:00\u001b[0m\n",
            "\u001b[2K   \u001b[90m━━━━━━━━━━━━━━━━━━━━━━━━━━━━━━━━━━━━━━━━\u001b[0m \u001b[32m4.6/4.6 MB\u001b[0m \u001b[31m104.0 MB/s\u001b[0m eta \u001b[36m0:00:00\u001b[0m\n",
            "\u001b[2K   \u001b[90m━━━━━━━━━━━━━━━━━━━━━━━━━━━━━━━━━━━━━━━━\u001b[0m \u001b[32m317.1/317.1 MB\u001b[0m \u001b[31m6.2 MB/s\u001b[0m eta \u001b[36m0:00:00\u001b[0m\n",
            "\u001b[2K   \u001b[90m━━━━━━━━━━━━━━━━━━━━━━━━━━━━━━━━━━━━━━━━\u001b[0m \u001b[32m11.8/11.8 MB\u001b[0m \u001b[31m99.1 MB/s\u001b[0m eta \u001b[36m0:00:00\u001b[0m\n",
            "\u001b[2K   \u001b[90m━━━━━━━━━━━━━━━━━━━━━━━━━━━━━━━━━━━━━━━━\u001b[0m \u001b[32m21.0/21.0 MB\u001b[0m \u001b[31m93.4 MB/s\u001b[0m eta \u001b[36m0:00:00\u001b[0m\n",
            "\u001b[2K   \u001b[90m━━━━━━━━━━━━━━━━━━━━━━━━━━━━━━━━━━━━━━━━\u001b[0m \u001b[32m849.3/849.3 kB\u001b[0m \u001b[31m44.1 MB/s\u001b[0m eta \u001b[36m0:00:00\u001b[0m\n",
            "\u001b[2K   \u001b[90m━━━━━━━━━━━━━━━━━━━━━━━━━━━━━━━━━━━━━━━━\u001b[0m \u001b[32m557.1/557.1 MB\u001b[0m \u001b[31m3.2 MB/s\u001b[0m eta \u001b[36m0:00:00\u001b[0m\n",
            "\u001b[2K   \u001b[90m━━━━━━━━━━━━━━━━━━━━━━━━━━━━━━━━━━━━━━━━\u001b[0m \u001b[32m54.6/54.6 MB\u001b[0m \u001b[31m15.4 MB/s\u001b[0m eta \u001b[36m0:00:00\u001b[0m\n",
            "\u001b[2K   \u001b[90m━━━━━━━━━━━━━━━━━━━━━━━━━━━━━━━━━━━━━━━━\u001b[0m \u001b[32m102.6/102.6 MB\u001b[0m \u001b[31m9.0 MB/s\u001b[0m eta \u001b[36m0:00:00\u001b[0m\n",
            "\u001b[2K   \u001b[90m━━━━━━━━━━━━━━━━━━━━━━━━━━━━━━━━━━━━━━━━\u001b[0m \u001b[32m173.2/173.2 MB\u001b[0m \u001b[31m6.4 MB/s\u001b[0m eta \u001b[36m0:00:00\u001b[0m\n",
            "\u001b[2K   \u001b[90m━━━━━━━━━━━━━━━━━━━━━━━━━━━━━━━━━━━━━━━━\u001b[0m \u001b[32m177.1/177.1 MB\u001b[0m \u001b[31m6.2 MB/s\u001b[0m eta \u001b[36m0:00:00\u001b[0m\n",
            "\u001b[2K   \u001b[90m━━━━━━━━━━━━━━━━━━━━━━━━━━━━━━━━━━━━━━━━\u001b[0m \u001b[32m98.6/98.6 kB\u001b[0m \u001b[31m8.0 MB/s\u001b[0m eta \u001b[36m0:00:00\u001b[0m\n",
            "\u001b[2K   \u001b[90m━━━━━━━━━━━━━━━━━━━━━━━━━━━━━━━━━━━━━━━━\u001b[0m \u001b[32m63.3/63.3 MB\u001b[0m \u001b[31m10.9 MB/s\u001b[0m eta \u001b[36m0:00:00\u001b[0m\n",
            "\u001b[2K   \u001b[90m━━━━━━━━━━━━━━━━━━━━━━━━━━━━━━━━━━━━━━━━\u001b[0m \u001b[32m96.4/96.4 kB\u001b[0m \u001b[31m8.3 MB/s\u001b[0m eta \u001b[36m0:00:00\u001b[0m\n",
            "\u001b[?25h\u001b[31mERROR: pip's dependency resolver does not currently take into account all the packages that are installed. This behaviour is the source of the following dependency conflicts.\n",
            "sentence-transformers 3.4.1 requires transformers<5.0.0,>=4.41.0, but you have transformers 4.31.0 which is incompatible.\n",
            "torchvision 0.21.0+cu124 requires torch==2.6.0, but you have torch 2.0.1 which is incompatible.\n",
            "torchaudio 2.6.0+cu124 requires torch==2.6.0, but you have torch 2.0.1 which is incompatible.\u001b[0m\u001b[31m\n",
            "\u001b[0m"
          ]
        }
      ],
      "source": [
        "!pip -q install portalocker\n",
        "!pip install -q torch torchvision torchaudio --index-url https://download.pytorch.org/whl/cu118\n",
        "!pip install -q torchtext==0.15.2\n",
        "!pip install -q torchinfo"
      ]
    },
    {
      "cell_type": "code",
      "execution_count": 3,
      "metadata": {
        "id": "6NdcDfTtFEVB"
      },
      "outputs": [],
      "source": [
        "import numpy as np\n",
        "import pandas as pd\n",
        "import matplotlib.pyplot as plt\n",
        "import spacy\n",
        "from collections import Counter\n",
        "from sklearn.metrics import classification_report, accuracy_score, precision_recall_fscore_support\n",
        "from tqdm import tqdm\n",
        "\n",
        "import torch\n",
        "import torch.nn as nn\n",
        "import torch.nn.functional as F\n",
        "from torch.utils.data import Dataset, DataLoader\n",
        "from torchtext.datasets import SST2\n",
        "from torchtext.vocab import build_vocab_from_iterator\n",
        "from transformers import BertTokenizer\n",
        "from torch.nn.functional import one_hot\n",
        "from nltk.corpus import stopwords\n",
        "from nltk.tokenize import word_tokenize\n",
        "import string\n",
        "import nltk"
      ]
    },
    {
      "cell_type": "code",
      "execution_count": 4,
      "metadata": {
        "colab": {
          "base_uri": "https://localhost:8080/"
        },
        "collapsed": true,
        "id": "pUpUtLZrjQmz",
        "outputId": "eafa849f-768a-45df-e8b6-089336c8aeef"
      },
      "outputs": [
        {
          "name": "stderr",
          "output_type": "stream",
          "text": [
            "\n",
            "A module that was compiled using NumPy 1.x cannot be run in\n",
            "NumPy 2.0.2 as it may crash. To support both 1.x and 2.x\n",
            "versions of NumPy, modules must be compiled with NumPy 2.0.\n",
            "Some module may need to rebuild instead e.g. with 'pybind11>=2.12'.\n",
            "\n",
            "If you are a user of the module, the easiest solution will be to\n",
            "downgrade to 'numpy<2' or try to upgrade the affected module.\n",
            "We expect that some modules will need time to support NumPy 2.\n",
            "\n",
            "Traceback (most recent call last):  File \"<frozen runpy>\", line 198, in _run_module_as_main\n",
            "  File \"<frozen runpy>\", line 88, in _run_code\n",
            "  File \"/usr/local/lib/python3.11/dist-packages/colab_kernel_launcher.py\", line 37, in <module>\n",
            "    ColabKernelApp.launch_instance()\n",
            "  File \"/usr/local/lib/python3.11/dist-packages/traitlets/config/application.py\", line 992, in launch_instance\n",
            "    app.start()\n",
            "  File \"/usr/local/lib/python3.11/dist-packages/ipykernel/kernelapp.py\", line 712, in start\n",
            "    self.io_loop.start()\n",
            "  File \"/usr/local/lib/python3.11/dist-packages/tornado/platform/asyncio.py\", line 205, in start\n",
            "    self.asyncio_loop.run_forever()\n",
            "  File \"/usr/lib/python3.11/asyncio/base_events.py\", line 608, in run_forever\n",
            "    self._run_once()\n",
            "  File \"/usr/lib/python3.11/asyncio/base_events.py\", line 1936, in _run_once\n",
            "    handle._run()\n",
            "  File \"/usr/lib/python3.11/asyncio/events.py\", line 84, in _run\n",
            "    self._context.run(self._callback, *self._args)\n",
            "  File \"/usr/local/lib/python3.11/dist-packages/ipykernel/kernelbase.py\", line 510, in dispatch_queue\n",
            "    await self.process_one()\n",
            "  File \"/usr/local/lib/python3.11/dist-packages/ipykernel/kernelbase.py\", line 499, in process_one\n",
            "    await dispatch(*args)\n",
            "  File \"/usr/local/lib/python3.11/dist-packages/ipykernel/kernelbase.py\", line 406, in dispatch_shell\n",
            "    await result\n",
            "  File \"/usr/local/lib/python3.11/dist-packages/ipykernel/kernelbase.py\", line 730, in execute_request\n",
            "    reply_content = await reply_content\n",
            "  File \"/usr/local/lib/python3.11/dist-packages/ipykernel/ipkernel.py\", line 383, in do_execute\n",
            "    res = shell.run_cell(\n",
            "  File \"/usr/local/lib/python3.11/dist-packages/ipykernel/zmqshell.py\", line 528, in run_cell\n",
            "    return super().run_cell(*args, **kwargs)\n",
            "  File \"/usr/local/lib/python3.11/dist-packages/IPython/core/interactiveshell.py\", line 2975, in run_cell\n",
            "    result = self._run_cell(\n",
            "  File \"/usr/local/lib/python3.11/dist-packages/IPython/core/interactiveshell.py\", line 3030, in _run_cell\n",
            "    return runner(coro)\n",
            "  File \"/usr/local/lib/python3.11/dist-packages/IPython/core/async_helpers.py\", line 78, in _pseudo_sync_runner\n",
            "    coro.send(None)\n",
            "  File \"/usr/local/lib/python3.11/dist-packages/IPython/core/interactiveshell.py\", line 3257, in run_cell_async\n",
            "    has_raised = await self.run_ast_nodes(code_ast.body, cell_name,\n",
            "  File \"/usr/local/lib/python3.11/dist-packages/IPython/core/interactiveshell.py\", line 3473, in run_ast_nodes\n",
            "    if (await self.run_code(code, result,  async_=asy)):\n",
            "  File \"/usr/local/lib/python3.11/dist-packages/IPython/core/interactiveshell.py\", line 3553, in run_code\n",
            "    exec(code_obj, self.user_global_ns, self.user_ns)\n",
            "  File \"<ipython-input-4-4a1e17c8f073>\", line 1, in <cell line: 0>\n",
            "    device = torch.device(\"cuda\" if torch.cuda.is_available() else \"cpu\")\n",
            "<ipython-input-4-4a1e17c8f073>:1: UserWarning: Failed to initialize NumPy: _ARRAY_API not found (Triggered internally at ../torch/csrc/utils/tensor_numpy.cpp:84.)\n",
            "  device = torch.device(\"cuda\" if torch.cuda.is_available() else \"cpu\")\n"
          ]
        }
      ],
      "source": [
        "device = torch.device(\"cuda\" if torch.cuda.is_available() else \"cpu\")"
      ]
    },
    {
      "cell_type": "code",
      "execution_count": 5,
      "metadata": {
        "colab": {
          "base_uri": "https://localhost:8080/"
        },
        "id": "g6R4Ea6NFbtG",
        "outputId": "ea979e79-a8b0-4ccc-d7d6-e34ed2390665"
      },
      "outputs": [
        {
          "name": "stderr",
          "output_type": "stream",
          "text": [
            "[nltk_data] Downloading package punkt to /root/nltk_data...\n",
            "[nltk_data]   Unzipping tokenizers/punkt.zip.\n",
            "[nltk_data] Downloading package stopwords to /root/nltk_data...\n",
            "[nltk_data]   Unzipping corpora/stopwords.zip.\n"
          ]
        },
        {
          "data": {
            "text/plain": [
              "True"
            ]
          },
          "execution_count": 5,
          "metadata": {},
          "output_type": "execute_result"
        }
      ],
      "source": [
        "nltk.download('punkt')\n",
        "nltk.download('stopwords')"
      ]
    },
    {
      "cell_type": "markdown",
      "metadata": {
        "id": "Z0ckpnehtjKn"
      },
      "source": [
        " **Loading the dataset and printing samples**"
      ]
    },
    {
      "cell_type": "code",
      "execution_count": 6,
      "metadata": {
        "colab": {
          "base_uri": "https://localhost:8080/"
        },
        "id": "MIqRTuKILDbx",
        "outputId": "4f8633ab-5c3d-46c1-ee27-84a4ff67fa5a"
      },
      "outputs": [
        {
          "name": "stdout",
          "output_type": "stream",
          "text": [
            "Sample training examples:\n",
            "Text: hide new secretions from the parental units\n",
            "Label: 0\n",
            "Text: contains no wit , only labored gags\n",
            "Label: 0\n",
            "Text: that loves its characters and communicates something rather beautiful about human nature\n",
            "Label: 1\n"
          ]
        }
      ],
      "source": [
        "train_iter = SST2(split='train')\n",
        "test_iter = SST2(split='dev') #Using validation set as the test set as the test set has no labels\n",
        "\n",
        "print(\"Sample training examples:\")\n",
        "for i, (text, label) in enumerate(train_iter):\n",
        "    print(f\"Text: {text}\")\n",
        "    print(f\"Label: {label}\")\n",
        "    if i == 2:\n",
        "        break"
      ]
    },
    {
      "cell_type": "code",
      "execution_count": 7,
      "metadata": {
        "colab": {
          "base_uri": "https://localhost:8080/"
        },
        "id": "8YsSzbkMVyrs",
        "outputId": "58db88a3-589a-4e37-d049-a4e6989f1a36"
      },
      "outputs": [
        {
          "name": "stdout",
          "output_type": "stream",
          "text": [
            "Test set samples:\n",
            "Sample 0: (\"it 's a charming and often affecting journey .\", 1)\n",
            "Sample 1: ('unflinchingly bleak and desperate', 0)\n",
            "Sample 2: ('allows us to hope that nolan is poised to embark a major career as a commercial yet inventive filmmaker .', 1)\n"
          ]
        }
      ],
      "source": [
        "print(\"Test set samples:\")\n",
        "for i, sample in enumerate(test_iter):\n",
        "    print(f\"Sample {i}: {sample}\")\n",
        "    if i == 2:\n",
        "        break"
      ]
    },
    {
      "cell_type": "markdown",
      "metadata": {
        "id": "PYbvJRTytZ7v"
      },
      "source": [
        "**Preprocessing**"
      ]
    },
    {
      "cell_type": "code",
      "execution_count": 8,
      "metadata": {
        "colab": {
          "base_uri": "https://localhost:8080/",
          "height": 168,
          "referenced_widgets": [
            "ba585afa2b6f47e1aeb495a27d1c3528",
            "3ac900bb6c794374aa00e8cd6deed221",
            "36f9e356af084719bd6db359bca871b9",
            "f3160910852d4aed86c6a2749f58adc4",
            "9444de1b029e42ab802ee61a7a735852",
            "a063ce846b8c4f8d9e53ff7aa97c7ce1",
            "26c3e3e110164e9c9402a518e4dee47b",
            "d169ba961a714ad6960d1bd340235a3b",
            "5f9bf6af30934bc7b09e36970b77f1ac",
            "ccdb60202388450e9ef5ceadb3d637dd",
            "0531dfcb63b34dd1be42ab50413f58ad",
            "52fee0a93fc6466c9925dd512aaac738",
            "a094f0f8b4d64f159a521db2973960d7",
            "f2ee206d213346e9a4d39fc2a80edb41",
            "1cc17ee7280c436b81d688f5688f727e",
            "b27ccfd06e9b491a8f8da36c7a2e4b45",
            "5c2794b273344e1492da6e0d34f653ca",
            "72af3ee7177649349144612e6a2d956e",
            "a856a261b82c4ce1b66871e18c81f6a7",
            "e8d708b4fae04d3195472c1fed266dd1",
            "04c9120f452a4c57882795de06e78a22",
            "a1b3197206294b4e98772c9674d7811f",
            "a0a15fa3af8d42ae8a579b15d40220ce",
            "56862e8b1c5345de9ddc6279394b9d0d",
            "2d9bdef4b5e34abdb6bfb2f9015158b9",
            "6d1e4f9bab7349c1b6a761ac46d67332",
            "ec494523c8364f7baace7058cbce5a9c",
            "4534483a41134908a8e4a1a14579ce8e",
            "2364a829d2e24fb6871961b212c5a121",
            "759a5930d9d147ef96ae48cc3489730a",
            "c8d71352ceab49d9bb3ab826dd2f2d7f",
            "c36bb49c153c44978fb296f99351a9f6",
            "37354a12d53b4197adef7da193a27037"
          ]
        },
        "id": "XT1UNjUqPc8v",
        "outputId": "9f828e47-6f4c-418b-c735-6667f6302580"
      },
      "outputs": [
        {
          "name": "stderr",
          "output_type": "stream",
          "text": [
            "/usr/local/lib/python3.11/dist-packages/huggingface_hub/file_download.py:896: FutureWarning: `resume_download` is deprecated and will be removed in version 1.0.0. Downloads always resume when possible. If you want to force a new download, use `force_download=True`.\n",
            "  warnings.warn(\n"
          ]
        },
        {
          "data": {
            "application/vnd.jupyter.widget-view+json": {
              "model_id": "ba585afa2b6f47e1aeb495a27d1c3528",
              "version_major": 2,
              "version_minor": 0
            },
            "text/plain": [
              "vocab.txt:   0%|          | 0.00/232k [00:00<?, ?B/s]"
            ]
          },
          "metadata": {},
          "output_type": "display_data"
        },
        {
          "data": {
            "application/vnd.jupyter.widget-view+json": {
              "model_id": "52fee0a93fc6466c9925dd512aaac738",
              "version_major": 2,
              "version_minor": 0
            },
            "text/plain": [
              "tokenizer_config.json:   0%|          | 0.00/48.0 [00:00<?, ?B/s]"
            ]
          },
          "metadata": {},
          "output_type": "display_data"
        },
        {
          "data": {
            "application/vnd.jupyter.widget-view+json": {
              "model_id": "a0a15fa3af8d42ae8a579b15d40220ce",
              "version_major": 2,
              "version_minor": 0
            },
            "text/plain": [
              "config.json:   0%|          | 0.00/570 [00:00<?, ?B/s]"
            ]
          },
          "metadata": {},
          "output_type": "display_data"
        }
      ],
      "source": [
        "train_iter = SST2(split='train')\n",
        "test_iter = SST2(split='dev')\n",
        "\n",
        "tokenizer = BertTokenizer.from_pretrained('bert-base-uncased') #Using bert tokenizer\n",
        "\n",
        "stop_words = set(stopwords.words('english'))\n",
        "punctuation = set(string.punctuation)\n",
        "\n",
        "def preprocess(text):\n",
        "    # Lowercase\n",
        "    text = text.lower()\n",
        "    # Tokenize\n",
        "    tokens = tokenizer.tokenize(text)\n",
        "    # Remove stopwords and punctuation\n",
        "    tokens = [t for t in tokens if t not in stop_words and t not in punctuation]\n",
        "    return tokens\n",
        "\n",
        "train_data = [(preprocess(text), int(label)) for text, label in train_iter]\n",
        "test_data = [(preprocess(text), int(label)) for text, label in test_iter]"
      ]
    },
    {
      "cell_type": "code",
      "execution_count": 9,
      "metadata": {
        "colab": {
          "base_uri": "https://localhost:8080/"
        },
        "id": "XU3jwSGSW_Cs",
        "outputId": "6ae57c79-c54e-42b1-e15d-c13a4c7b8e37"
      },
      "outputs": [
        {
          "name": "stdout",
          "output_type": "stream",
          "text": [
            "Sample 0: (['hide', 'new', 'secret', '##ions', 'parental', 'units'], 0)\n",
            "Sample 1: (['contains', 'wit', 'labor', '##ed', 'gag', '##s'], 0)\n",
            "Sample 2: (['loves', 'characters', 'communicate', '##s', 'something', 'rather', 'beautiful', 'human', 'nature'], 1)\n"
          ]
        }
      ],
      "source": [
        "#Printing tokens\n",
        "for i in range(3):\n",
        "    print(f\"Sample {i}: {train_data[i]}\")"
      ]
    },
    {
      "cell_type": "markdown",
      "metadata": {
        "id": "J-_XXqwhtvQ8"
      },
      "source": [
        "**Converting to numerical tokens**"
      ]
    },
    {
      "cell_type": "code",
      "execution_count": 10,
      "metadata": {
        "colab": {
          "base_uri": "https://localhost:8080/"
        },
        "id": "ZuiI-1JiSx4J",
        "outputId": "adcfcd34-1983-45fc-8c36-4579431107cb"
      },
      "outputs": [
        {
          "name": "stdout",
          "output_type": "stream",
          "text": [
            "Sample 0: ([4373, 36, 2404, 5528, 7618, 8835], 0)\n",
            "Sample 1: ([3746, 164, 1508, 22, 554, 2], 0)\n",
            "Sample 2: ([2396, 15, 4903, 2, 43, 136, 222, 102, 378], 1)\n",
            "Label 0: 29780 samples\n",
            "Label 1: 37569 samples\n"
          ]
        }
      ],
      "source": [
        "def yield_tokens(data_iter):\n",
        "    for tokens, _ in data_iter:\n",
        "        yield tokens\n",
        "\n",
        "vocab = build_vocab_from_iterator(yield_tokens(train_data), specials=[\"<unk>\", \"<pad>\"])\n",
        "vocab.set_default_index(vocab[\"<unk>\"])\n",
        "\n",
        "#Converting into numerical data using torchtext.vocab\n",
        "train_numerical = [(vocab(tokens), label) for tokens, label in train_data]\n",
        "test_numerical = [(vocab(tokens),label) for tokens, label in test_data]\n",
        "\n",
        "for i in range(3):\n",
        "    print(f\"Sample {i}: {train_numerical[i]}\")\n",
        "\n",
        "label_count=Counter([label for _, label in train_numerical])\n",
        "for label, count in label_count.items():\n",
        "    print(f\"Label {label}: {count} samples\")"
      ]
    },
    {
      "cell_type": "markdown",
      "metadata": {
        "id": "HAVVFIHot13O"
      },
      "source": [
        "**One Hot Encoding**"
      ]
    },
    {
      "cell_type": "code",
      "execution_count": 11,
      "metadata": {
        "colab": {
          "base_uri": "https://localhost:8080/"
        },
        "id": "Tj8jzed-W4j6",
        "outputId": "631923f6-be1b-4e34-d7ec-b44e2384f181"
      },
      "outputs": [
        {
          "name": "stdout",
          "output_type": "stream",
          "text": [
            "Final processed samples:\n",
            "Token IDs: tensor([4373,   36, 2404, 5528, 7618, 8835])\n",
            "One-hot Label: tensor([1, 0])\n",
            "\n",
            "\n",
            "Token IDs: tensor([3746,  164, 1508,   22,  554,    2])\n",
            "One-hot Label: tensor([1, 0])\n",
            "\n",
            "\n",
            "Token IDs: tensor([2396,   15, 4903,    2,   43,  136,  222,  102,  378])\n",
            "One-hot Label: tensor([0, 1])\n",
            "\n",
            "\n"
          ]
        }
      ],
      "source": [
        "def one_hot_labels(label, num_classes=2):\n",
        "    return one_hot(torch.tensor(label), num_classes=num_classes)\n",
        "\n",
        "train_oh = [(torch.tensor(tokens), one_hot_labels(label)) for tokens, label in train_numerical]\n",
        "test_oh = [(torch.tensor(tokens),one_hot_labels(label)) for tokens, label in test_numerical]\n",
        "\n",
        "print(\"Final processed samples:\")\n",
        "for tokens, label in train_oh[:3]:\n",
        "    print(f\"Token IDs: {tokens}\")\n",
        "    print(f\"One-hot Label: {label}\")\n",
        "    print(\"\\n\")"
      ]
    },
    {
      "cell_type": "markdown",
      "metadata": {
        "id": "SSysLE1mt7dQ"
      },
      "source": [
        "**Splitting into train and validation sets, Class distribution**"
      ]
    },
    {
      "cell_type": "code",
      "execution_count": 12,
      "metadata": {
        "colab": {
          "base_uri": "https://localhost:8080/"
        },
        "id": "Eg5weQ-AaXhj",
        "outputId": "2f2e024b-0f06-4fd1-9647-eb9d2e982e61"
      },
      "outputs": [
        {
          "name": "stdout",
          "output_type": "stream",
          "text": [
            "Train data size: 53879\n",
            "Validation data size: 13470\n",
            "\n",
            "Training data class distribution\n",
            "Label 0: 23826 samples\n",
            "Label 1: 30053 samples\n",
            "\n",
            "Testing data class distribution\n",
            "Label 1: 444 samples\n",
            "Label 0: 428 samples\n"
          ]
        }
      ],
      "source": [
        "import random\n",
        "random.seed(42)\n",
        "random.shuffle(train_numerical)\n",
        "\n",
        "train_length=int(0.8*len(train_numerical))\n",
        "val_length=len(train_numerical)-train_length\n",
        "print('Train data size: '+str(train_length))\n",
        "print('Validation data size: '+str(val_length))\n",
        "\n",
        "training_data=train_numerical[:train_length]\n",
        "validation_data=train_numerical[train_length:train_length+val_length]\n",
        "testing_data=test_numerical\n",
        "\n",
        "print(\"\\nTraining data class distribution\")\n",
        "label_count=Counter([label for _, label in training_data])\n",
        "for label, count in label_count.items():\n",
        "    print(f\"Label {label}: {count} samples\")\n",
        "\n",
        "print(\"\\nTesting data class distribution\")\n",
        "label_count=Counter([label for _, label in testing_data])\n",
        "for label, count in label_count.items():\n",
        "    print(f\"Label {label}: {count} samples\")"
      ]
    },
    {
      "cell_type": "code",
      "execution_count": 13,
      "metadata": {
        "id": "XfDdM1_1iiJP"
      },
      "outputs": [],
      "source": [
        "# Hyperparameters Given\n",
        "d_model = 16\n",
        "nhead = 4\n",
        "num_layers = 1\n",
        "dropout = 0.5\n",
        "batch_size = 32\n",
        "epochs = 5\n",
        "lr = 1e-3\n",
        "max_len = 5000\n",
        "num_classes = 2\n",
        "vocab_size=len(vocab)"
      ]
    },
    {
      "cell_type": "markdown",
      "metadata": {
        "id": "sDupY34nuJfc"
      },
      "source": [
        "**Encoder Layer**"
      ]
    },
    {
      "cell_type": "code",
      "execution_count": 14,
      "metadata": {
        "id": "R_UMV8vedWHs"
      },
      "outputs": [],
      "source": [
        "class Custom_EncoderLayer(nn.Module):\n",
        "    def __init__(self, d_model, nhead, dropout=0.5):\n",
        "        super().__init__()\n",
        "        self.self_attn = nn.MultiheadAttention(d_model, nhead, dropout=dropout)\n",
        "        self.linear1 = nn.Linear(d_model, d_model)\n",
        "        self.dropout_ff = nn.Dropout(dropout)\n",
        "        self.linear2 = nn.Linear(d_model, d_model)\n",
        "        self.norm1 = nn.LayerNorm(d_model)\n",
        "        self.norm2 = nn.LayerNorm(d_model)\n",
        "        self.dropout1 = nn.Dropout(dropout)\n",
        "        self.dropout2 = nn.Dropout(dropout)\n",
        "\n",
        "    def forward(self, src):\n",
        "        # src: (seq_len, batch_size, d_model)\n",
        "        attn_output, _ = self.self_attn(src, src, src)\n",
        "        src = src + self.dropout1(attn_output)\n",
        "        src = self.norm1(src)\n",
        "\n",
        "        ff_output = self.linear2(self.dropout_ff(F.relu(self.linear1(src))))\n",
        "        src = src + self.dropout2(ff_output)\n",
        "        src = self.norm2(src)\n",
        "\n",
        "        return src"
      ]
    },
    {
      "cell_type": "markdown",
      "metadata": {
        "id": "CMr1A6cGuMiF"
      },
      "source": [
        "**Positional Encoding**"
      ]
    },
    {
      "cell_type": "code",
      "execution_count": 15,
      "metadata": {
        "id": "rKPoDnBufE0G"
      },
      "outputs": [],
      "source": [
        "import math\n",
        "class PositionalEncoding(nn.Module):\n",
        "    def __init__(self, d_model, max_len=5000, device=None):\n",
        "        super().__init__()\n",
        "        pe = torch.zeros(max_len, d_model)\n",
        "        position = torch.arange(0, max_len).unsqueeze(1)\n",
        "        div_term = torch.exp(torch.arange(0, d_model, 2) * -(math.log(10000.0) / d_model))\n",
        "        pe[:, 0::2] = torch.sin(position * div_term)\n",
        "        pe[:, 1::2] = torch.cos(position * div_term)\n",
        "        self.pe = pe.unsqueeze(1).to(device)\n",
        "\n",
        "    def forward(self, x):\n",
        "        x = x + self.pe[:x.size(0)]\n",
        "        return x"
      ]
    },
    {
      "cell_type": "markdown",
      "metadata": {
        "id": "AFS-xRiduSjt"
      },
      "source": [
        "**Transformer Model**"
      ]
    },
    {
      "cell_type": "code",
      "execution_count": 16,
      "metadata": {
        "id": "KQYFezGfhimw"
      },
      "outputs": [],
      "source": [
        "class SentimentClassifier_1(nn.Module):\n",
        "    def __init__(self, vocab_size, d_model=16, nhead=4, num_layers=1, num_classes=2, dropout=0.5, max_len=5000, device=None):\n",
        "        super().__init__()\n",
        "        self.embedding = nn.Embedding(vocab_size, d_model)\n",
        "        self.pos_encoder = PositionalEncoding(d_model, max_len, device=device)\n",
        "        self.dropout = nn.Dropout(dropout)\n",
        "\n",
        "        self.encoder_layers = nn.ModuleList([\n",
        "            Custom_EncoderLayer(d_model, nhead, dropout) for _ in range(num_layers)\n",
        "        ])\n",
        "\n",
        "        self.classifier = nn.Linear(d_model, num_classes) #Linear layer for classification\n",
        "\n",
        "    def forward(self, src):\n",
        "        # src: (batch_size, seq_len)\n",
        "        src = self.embedding(src)  # (batch_size, seq_len, d_model)\n",
        "        src = self.dropout(src)\n",
        "        src = src.transpose(0, 1)  # (seq_len, batch_size, d_model)\n",
        "        src = self.pos_encoder(src)\n",
        "\n",
        "        for layer in self.encoder_layers:\n",
        "            src = layer(src)\n",
        "\n",
        "        output = src.mean(dim=0)\n",
        "        logits = self.classifier(output)\n",
        "        return logits"
      ]
    },
    {
      "cell_type": "code",
      "execution_count": 17,
      "metadata": {
        "id": "_JHYq8_Pitf7"
      },
      "outputs": [],
      "source": [
        "def train_model(model, train_loader, val_loader, device, epochs=5, lr=1e-3):\n",
        "    optimizer = torch.optim.Adam(model.parameters(), lr=lr)\n",
        "    loss_fn = nn.CrossEntropyLoss()\n",
        "\n",
        "    train_losses = []\n",
        "    val_losses = []\n",
        "\n",
        "    for epoch in range(epochs):\n",
        "        model.train()\n",
        "        total_loss = 0\n",
        "        correct = 0\n",
        "        total = 0\n",
        "\n",
        "        pbar = tqdm(train_loader, desc=f\"Epoch {epoch+1}/{epochs} [Train]\")\n",
        "        for inputs, labels in pbar:\n",
        "            inputs, labels = inputs.to(device), labels.to(device)\n",
        "            optimizer.zero_grad()\n",
        "\n",
        "            outputs = model(inputs)\n",
        "            loss = loss_fn(outputs, labels)\n",
        "            loss.backward()\n",
        "            optimizer.step()\n",
        "\n",
        "            total_loss += loss.item()\n",
        "            preds = outputs.argmax(dim=1)\n",
        "            correct += (preds == labels).sum().item()\n",
        "            total += labels.size(0)\n",
        "\n",
        "        train_acc = correct / total\n",
        "        train_losses.append(total_loss / len(train_loader))\n",
        "\n",
        "        # Validation\n",
        "        model.eval()\n",
        "        val_loss = 0\n",
        "        val_correct = 0\n",
        "        val_total = 0\n",
        "        with torch.no_grad():\n",
        "            for inputs, labels in val_loader:\n",
        "                inputs, labels = inputs.to(device), labels.to(device)\n",
        "                outputs = model(inputs)\n",
        "                loss = loss_fn(outputs, labels)\n",
        "                val_loss += loss.item()\n",
        "\n",
        "                preds = outputs.argmax(dim=1)\n",
        "                val_correct += (preds == labels).sum().item()\n",
        "                val_total += labels.size(0)\n",
        "\n",
        "        val_acc = val_correct / val_total\n",
        "        val_losses.append(val_loss / len(val_loader))\n",
        "\n",
        "        print(f\"Epoch {epoch+1}: Train Acc = {train_acc:.4f}, Val Acc = {val_acc:.4f}\")\n",
        "\n",
        "    return train_losses, val_losses"
      ]
    },
    {
      "cell_type": "code",
      "execution_count": 18,
      "metadata": {
        "id": "Hcro4x3wiTw-"
      },
      "outputs": [],
      "source": [
        "def test_model(model, test_loader, device, class_names=None):\n",
        "    model.eval()\n",
        "    all_preds = []\n",
        "    all_labels = []\n",
        "\n",
        "    with torch.no_grad():\n",
        "        for inputs, labels in test_loader:\n",
        "            inputs, labels = inputs.to(device), labels.to(device)\n",
        "            outputs = model(inputs)\n",
        "            preds = outputs.argmax(dim=1)\n",
        "\n",
        "            all_preds.extend(preds.cpu().tolist())\n",
        "            all_labels.extend(labels.cpu().tolist())\n",
        "\n",
        "    #EValuation Metrics\n",
        "    accuracy = accuracy_score(all_labels, all_preds)\n",
        "    precision, recall, f1, support = precision_recall_fscore_support(\n",
        "        all_labels, all_preds, average='weighted', zero_division=0\n",
        "    )\n",
        "\n",
        "    print(f\"Test Accuracy:  {accuracy:.4f}\")\n",
        "    print(f\"Test Precision: {precision:.4f}\")\n",
        "    print(f\"Test Recall:    {recall:.4f}\")\n",
        "    print(f\"Test F1 Score:  {f1:.4f}\\n\")\n",
        "\n",
        "\n",
        "    print(\"Classification Report:\")\n",
        "    print(classification_report(\n",
        "        all_labels, all_preds, target_names=class_names, zero_division=0\n",
        "    ))"
      ]
    },
    {
      "cell_type": "code",
      "execution_count": 19,
      "metadata": {
        "id": "Jb2rGTg4iP_d"
      },
      "outputs": [],
      "source": [
        "from torch.nn.utils.rnn import pad_sequence\n",
        "def collate_fn(batch):\n",
        "    token_ids, labels = zip(*batch)\n",
        "    token_ids = [torch.tensor(ids, dtype=torch.long) for ids in token_ids]\n",
        "    token_ids_padded = pad_sequence(token_ids, batch_first=True, padding_value=0)\n",
        "    labels = torch.tensor(labels)\n",
        "    return token_ids_padded, labels\n",
        "\n",
        "#Creating DataLoaders\n",
        "train_loader = DataLoader(training_data, batch_size=batch_size, shuffle=True, collate_fn=collate_fn)\n",
        "val_loader = DataLoader(validation_data, batch_size=batch_size, shuffle=False, collate_fn=collate_fn)\n",
        "test_loader = DataLoader(testing_data, batch_size=batch_size, shuffle=False, collate_fn=collate_fn)"
      ]
    },
    {
      "cell_type": "markdown",
      "metadata": {
        "id": "nFLgwkGjubZ9"
      },
      "source": [
        "**Training**"
      ]
    },
    {
      "cell_type": "code",
      "execution_count": 20,
      "metadata": {
        "colab": {
          "base_uri": "https://localhost:8080/",
          "height": 646
        },
        "id": "XltPoTY_ip_d",
        "outputId": "02ff54ec-55d2-412d-e4cf-45cd6265e1ba"
      },
      "outputs": [
        {
          "name": "stderr",
          "output_type": "stream",
          "text": [
            "Epoch 1/5 [Train]: 100%|██████████| 1684/1684 [00:09<00:00, 174.81it/s]\n"
          ]
        },
        {
          "name": "stdout",
          "output_type": "stream",
          "text": [
            "Epoch 1: Train Acc = 0.5896, Val Acc = 0.6831\n"
          ]
        },
        {
          "name": "stderr",
          "output_type": "stream",
          "text": [
            "Epoch 2/5 [Train]: 100%|██████████| 1684/1684 [00:06<00:00, 246.92it/s]\n"
          ]
        },
        {
          "name": "stdout",
          "output_type": "stream",
          "text": [
            "Epoch 2: Train Acc = 0.6834, Val Acc = 0.7560\n"
          ]
        },
        {
          "name": "stderr",
          "output_type": "stream",
          "text": [
            "Epoch 3/5 [Train]: 100%|██████████| 1684/1684 [00:06<00:00, 257.74it/s]\n"
          ]
        },
        {
          "name": "stdout",
          "output_type": "stream",
          "text": [
            "Epoch 3: Train Acc = 0.7392, Val Acc = 0.7936\n"
          ]
        },
        {
          "name": "stderr",
          "output_type": "stream",
          "text": [
            "Epoch 4/5 [Train]: 100%|██████████| 1684/1684 [00:06<00:00, 241.81it/s]\n"
          ]
        },
        {
          "name": "stdout",
          "output_type": "stream",
          "text": [
            "Epoch 4: Train Acc = 0.7732, Val Acc = 0.8140\n"
          ]
        },
        {
          "name": "stderr",
          "output_type": "stream",
          "text": [
            "Epoch 5/5 [Train]: 100%|██████████| 1684/1684 [00:06<00:00, 259.99it/s]\n"
          ]
        },
        {
          "name": "stdout",
          "output_type": "stream",
          "text": [
            "Epoch 5: Train Acc = 0.7973, Val Acc = 0.8194\n"
          ]
        },
        {
          "data": {
            "image/png": "[encoded data removed]",
            "text/plain": [
              "<Figure size 640x480 with 1 Axes>"
            ]
          },
          "metadata": {},
          "output_type": "display_data"
        }
      ],
      "source": [
        "model_1 = SentimentClassifier_1(vocab_size, d_model, nhead, num_layers, num_classes, dropout, max_len, device=device).to(device)\n",
        "train_losses_1, val_losses_1 = train_model(model_1, train_loader, val_loader, device, epochs, lr)\n",
        "\n",
        "#Plotting loss curves\n",
        "plt.plot(train_losses_1, label='Train Loss')\n",
        "plt.plot(val_losses_1, label='Validation Loss')\n",
        "plt.xlabel(\"Epochs\")\n",
        "plt.ylabel(\"Loss\")\n",
        "plt.title(\"Training & Validation Loss\")\n",
        "plt.legend()\n",
        "plt.show()"
      ]
    },
    {
      "cell_type": "markdown",
      "metadata": {
        "id": "9c1WWLeSud9q"
      },
      "source": [
        "**Testing**"
      ]
    },
    {
      "cell_type": "code",
      "execution_count": 21,
      "metadata": {
        "colab": {
          "base_uri": "https://localhost:8080/"
        },
        "id": "IzsyOBHKjXYE",
        "outputId": "3de85fb8-e204-4009-9821-b25671ea9998"
      },
      "outputs": [
        {
          "name": "stdout",
          "output_type": "stream",
          "text": [
            "Test Accuracy:  0.7557\n",
            "Test Precision: 0.7681\n",
            "Test Recall:    0.7557\n",
            "Test F1 Score:  0.7522\n",
            "\n",
            "Classification Report:\n",
            "              precision    recall  f1-score   support\n",
            "\n",
            "           0       0.82      0.64      0.72       428\n",
            "           1       0.71      0.87      0.78       444\n",
            "\n",
            "    accuracy                           0.76       872\n",
            "   macro avg       0.77      0.75      0.75       872\n",
            "weighted avg       0.77      0.76      0.75       872\n",
            "\n"
          ]
        }
      ],
      "source": [
        "test_model(model_1,test_loader, device)"
      ]
    },
    {
      "cell_type": "markdown",
      "metadata": {
        "id": "N7kGKxDAuhKo"
      },
      "source": [
        "**Model Summary**"
      ]
    },
    {
      "cell_type": "code",
      "execution_count": 22,
      "metadata": {
        "colab": {
          "base_uri": "https://localhost:8080/"
        },
        "id": "ZkyhSVdcol4O",
        "outputId": "021f7d21-5657-41ec-8fde-3250c0efa8c3"
      },
      "outputs": [
        {
          "data": {
            "text/plain": [
              "==========================================================================================\n",
              "Layer (type:depth-idx)                   Output Shape              Param #\n",
              "==========================================================================================\n",
              "SentimentClassifier_1                    [32, 2]                   --\n",
              "├─Embedding: 1-1                         [32, 16, 16]              182,704\n",
              "├─Dropout: 1-2                           [32, 16, 16]              --\n",
              "├─PositionalEncoding: 1-3                [16, 32, 16]              --\n",
              "├─ModuleList: 1-4                        --                        --\n",
              "│    └─Custom_EncoderLayer: 2-1          [16, 32, 16]              --\n",
              "│    │    └─MultiheadAttention: 3-1      [16, 32, 16]              1,088\n",
              "│    │    └─Dropout: 3-2                 [16, 32, 16]              --\n",
              "│    │    └─LayerNorm: 3-3               [16, 32, 16]              32\n",
              "│    │    └─Linear: 3-4                  [16, 32, 16]              272\n",
              "│    │    └─Dropout: 3-5                 [16, 32, 16]              --\n",
              "│    │    └─Linear: 3-6                  [16, 32, 16]              272\n",
              "│    │    └─Dropout: 3-7                 [16, 32, 16]              --\n",
              "│    │    └─LayerNorm: 3-8               [16, 32, 16]              32\n",
              "├─Linear: 1-5                            [32, 2]                   34\n",
              "==========================================================================================\n",
              "Total params: 184,434\n",
              "Trainable params: 184,434\n",
              "Non-trainable params: 0\n",
              "Total mult-adds (Units.MEGABYTES): 5.86\n",
              "==========================================================================================\n",
              "Input size (MB): 0.00\n",
              "Forward/backward pass size (MB): 0.33\n",
              "Params size (MB): 0.73\n",
              "Estimated Total Size (MB): 1.07\n",
              "=========================================================================================="
            ]
          },
          "execution_count": 22,
          "metadata": {},
          "output_type": "execute_result"
        }
      ],
      "source": [
        "from torchinfo import summary\n",
        "\n",
        "dummy_input = torch.randint(0, vocab_size, (batch_size, d_model), dtype=torch.long).to(device)\n",
        "summary(model_1, input_data=dummy_input)"
      ]
    },
    {
      "cell_type": "markdown",
      "metadata": {
        "id": "3WdX1Q2hulzr"
      },
      "source": [
        "**Transformer model with nn.TransformerEncoderLayer**"
      ]
    },
    {
      "cell_type": "code",
      "execution_count": 23,
      "metadata": {
        "id": "3w5TxdrvZJ0E"
      },
      "outputs": [],
      "source": [
        "class SentimentClassifier_2(nn.Module):\n",
        "    def __init__(self, vocab_size, d_model=16, nhead=4, num_layers=1, num_classes=2, dropout=0.5, max_len=5000, device=None):\n",
        "        super().__init__()\n",
        "        self.embedding = nn.Embedding(vocab_size, d_model)\n",
        "        self.pos_encoder = PositionalEncoding(d_model, max_len, device=device)\n",
        "        self.dropout = nn.Dropout(dropout)\n",
        "\n",
        "        self.encoder_layers = nn.ModuleList([\n",
        "            nn.TransformerEncoderLayer(d_model,nhead,dim_feedforward=d_model,dropout=dropout) for _ in range(num_layers)\n",
        "        ])\n",
        "\n",
        "        self.classifier = nn.Linear(d_model, num_classes)\n",
        "\n",
        "    def forward(self, src):\n",
        "        # src: (batch_size, seq_len)\n",
        "        src = self.embedding(src)  # (batch_size, seq_len, d_model)\n",
        "        src = self.dropout(src)\n",
        "        src = src.transpose(0, 1)  # (seq_len, batch_size, d_model)\n",
        "        src = self.pos_encoder(src)\n",
        "\n",
        "        for layer in self.encoder_layers:\n",
        "            src = layer(src)\n",
        "\n",
        "        output = src.mean(dim=0)\n",
        "        logits = self.classifier(output)\n",
        "        return logits"
      ]
    },
    {
      "cell_type": "markdown",
      "metadata": {
        "id": "OrUXUZpxuwE6"
      },
      "source": [
        "**Training**"
      ]
    },
    {
      "cell_type": "code",
      "execution_count": 24,
      "metadata": {
        "colab": {
          "base_uri": "https://localhost:8080/",
          "height": 646
        },
        "id": "3l7EebasaePQ",
        "outputId": "a0c7faeb-035c-4ef7-917a-fc90ee9fb77e"
      },
      "outputs": [
        {
          "name": "stderr",
          "output_type": "stream",
          "text": [
            "Epoch 1/5 [Train]: 100%|██████████| 1684/1684 [00:07<00:00, 237.41it/s]\n"
          ]
        },
        {
          "name": "stdout",
          "output_type": "stream",
          "text": [
            "Epoch 1: Train Acc = 0.5900, Val Acc = 0.6740\n"
          ]
        },
        {
          "name": "stderr",
          "output_type": "stream",
          "text": [
            "Epoch 2/5 [Train]: 100%|██████████| 1684/1684 [00:06<00:00, 248.00it/s]\n"
          ]
        },
        {
          "name": "stdout",
          "output_type": "stream",
          "text": [
            "Epoch 2: Train Acc = 0.6724, Val Acc = 0.7593\n"
          ]
        },
        {
          "name": "stderr",
          "output_type": "stream",
          "text": [
            "Epoch 3/5 [Train]: 100%|██████████| 1684/1684 [00:07<00:00, 231.22it/s]\n"
          ]
        },
        {
          "name": "stdout",
          "output_type": "stream",
          "text": [
            "Epoch 3: Train Acc = 0.7263, Val Acc = 0.7955\n"
          ]
        },
        {
          "name": "stderr",
          "output_type": "stream",
          "text": [
            "Epoch 4/5 [Train]: 100%|██████████| 1684/1684 [00:06<00:00, 246.58it/s]\n"
          ]
        },
        {
          "name": "stdout",
          "output_type": "stream",
          "text": [
            "Epoch 4: Train Acc = 0.7611, Val Acc = 0.8176\n"
          ]
        },
        {
          "name": "stderr",
          "output_type": "stream",
          "text": [
            "Epoch 5/5 [Train]: 100%|██████████| 1684/1684 [00:07<00:00, 219.98it/s]\n"
          ]
        },
        {
          "name": "stdout",
          "output_type": "stream",
          "text": [
            "Epoch 5: Train Acc = 0.7829, Val Acc = 0.8319\n"
          ]
        },
        {
          "data": {
            "image/png": "[encoded data removed]",
            "text/plain": [
              "<Figure size 640x480 with 1 Axes>"
            ]
          },
          "metadata": {},
          "output_type": "display_data"
        }
      ],
      "source": [
        "model_2 = SentimentClassifier_2(vocab_size, d_model, nhead, num_layers, num_classes, dropout, max_len, device=device).to(device)\n",
        "train_losses_2, val_losses_2 = train_model(model_2, train_loader, val_loader, device, epochs, lr)\n",
        "\n",
        "#Plotting Loss Curves\n",
        "plt.plot(train_losses_2, label='Train Loss')\n",
        "plt.plot(val_losses_2, label='Validation Loss')\n",
        "plt.xlabel(\"Epochs\")\n",
        "plt.ylabel(\"Loss\")\n",
        "plt.title(\"Training & Validation Loss\")\n",
        "plt.legend()\n",
        "plt.show()"
      ]
    },
    {
      "cell_type": "markdown",
      "metadata": {
        "id": "rLQU-YLYuzvv"
      },
      "source": [
        "**Testing**"
      ]
    },
    {
      "cell_type": "code",
      "execution_count": 25,
      "metadata": {
        "colab": {
          "base_uri": "https://localhost:8080/"
        },
        "id": "KDASJ1x-mv2U",
        "outputId": "164829e1-886e-4acf-9764-0b71bf514378"
      },
      "outputs": [
        {
          "name": "stdout",
          "output_type": "stream",
          "text": [
            "Test Accuracy:  0.7557\n",
            "Test Precision: 0.7580\n",
            "Test Recall:    0.7557\n",
            "Test F1 Score:  0.7548\n",
            "\n",
            "Classification Report:\n",
            "              precision    recall  f1-score   support\n",
            "\n",
            "           0       0.78      0.70      0.74       428\n",
            "           1       0.74      0.81      0.77       444\n",
            "\n",
            "    accuracy                           0.76       872\n",
            "   macro avg       0.76      0.75      0.75       872\n",
            "weighted avg       0.76      0.76      0.75       872\n",
            "\n"
          ]
        }
      ],
      "source": [
        "test_model(model_2,test_loader, device)"
      ]
    },
    {
      "cell_type": "markdown",
      "metadata": {
        "id": "7RKfg539u2Mc"
      },
      "source": [
        "**Model Summary**"
      ]
    },
    {
      "cell_type": "code",
      "execution_count": 26,
      "metadata": {
        "colab": {
          "base_uri": "https://localhost:8080/"
        },
        "id": "V8Isu3mCbYjA",
        "outputId": "28be1871-617c-4cda-8527-6e121add6013"
      },
      "outputs": [
        {
          "data": {
            "text/plain": [
              "==========================================================================================\n",
              "Layer (type:depth-idx)                   Output Shape              Param #\n",
              "==========================================================================================\n",
              "SentimentClassifier_2                    [32, 2]                   --\n",
              "├─Embedding: 1-1                         [32, 16, 16]              182,704\n",
              "├─Dropout: 1-2                           [32, 16, 16]              --\n",
              "├─PositionalEncoding: 1-3                [16, 32, 16]              --\n",
              "├─ModuleList: 1-4                        --                        --\n",
              "│    └─TransformerEncoderLayer: 2-1      [16, 32, 16]              --\n",
              "│    │    └─MultiheadAttention: 3-1      [16, 32, 16]              1,088\n",
              "│    │    └─Dropout: 3-2                 [16, 32, 16]              --\n",
              "│    │    └─LayerNorm: 3-3               [16, 32, 16]              32\n",
              "│    │    └─Linear: 3-4                  [16, 32, 16]              272\n",
              "│    │    └─Dropout: 3-5                 [16, 32, 16]              --\n",
              "│    │    └─Linear: 3-6                  [16, 32, 16]              272\n",
              "│    │    └─Dropout: 3-7                 [16, 32, 16]              --\n",
              "│    │    └─LayerNorm: 3-8               [16, 32, 16]              32\n",
              "├─Linear: 1-5                            [32, 2]                   34\n",
              "==========================================================================================\n",
              "Total params: 184,434\n",
              "Trainable params: 184,434\n",
              "Non-trainable params: 0\n",
              "Total mult-adds (Units.MEGABYTES): 5.86\n",
              "==========================================================================================\n",
              "Input size (MB): 0.00\n",
              "Forward/backward pass size (MB): 0.33\n",
              "Params size (MB): 0.73\n",
              "Estimated Total Size (MB): 1.07\n",
              "=========================================================================================="
            ]
          },
          "execution_count": 26,
          "metadata": {},
          "output_type": "execute_result"
        }
      ],
      "source": [
        "summary(model_2, input_data=dummy_input)"
      ]
    },
    {
      "cell_type": "markdown",
      "metadata": {
        "id": "AWRHJDHku9wl"
      },
      "source": [
        "**Transfer Learning with BERT**"
      ]
    },
    {
      "cell_type": "code",
      "execution_count": null,
      "metadata": {
        "id": "A5vK3edPfe2w"
      },
      "outputs": [],
      "source": [
        "from sklearn.model_selection import train_test_split\n",
        "\n",
        "train_iter = list(SST2(split='train'))\n",
        "test_iter= list(SST2(split='dev'))\n",
        "\n",
        "texts = [text for text, label in train_iter]\n",
        "labels = [int(label) for text, label in train_iter]\n",
        "\n",
        "train_texts, val_texts, train_labels, val_labels = train_test_split(\n",
        "    texts, labels, test_size=0.2, random_state=42\n",
        ")\n",
        "\n",
        "test_texts = [text for text, label in test_iter]\n",
        "test_labels = [int(label) for text, label in test_iter]"
      ]
    },
    {
      "cell_type": "markdown",
      "metadata": {
        "id": "Dwpx6-qRvEZM"
      },
      "source": [
        "**Using BERT Tokenizer**"
      ]
    },
    {
      "cell_type": "code",
      "execution_count": null,
      "metadata": {
        "colab": {
          "base_uri": "https://localhost:8080/"
        },
        "id": "A72_qS2bi7Vh",
        "outputId": "88cc6401-1932-4704-d784-e8b7fe6d3513"
      },
      "outputs": [
        {
          "name": "stderr",
          "output_type": "stream",
          "text": [
            "/usr/local/lib/python3.11/dist-packages/huggingface_hub/file_download.py:896: FutureWarning: `resume_download` is deprecated and will be removed in version 1.0.0. Downloads always resume when possible. If you want to force a new download, use `force_download=True`.\n",
            "  warnings.warn(\n"
          ]
        }
      ],
      "source": [
        "from transformers import BertTokenizer, BertModel\n",
        "\n",
        "tokenizer = BertTokenizer.from_pretrained('bert-base-uncased')\n",
        "MAX_LEN = 64\n",
        "\n",
        "def encode(texts, tokenizer, max_len):\n",
        "    encoded = tokenizer(texts, padding='max_length', truncation=True,\n",
        "                        max_length=MAX_LEN, return_tensors='pt')\n",
        "    return encoded['input_ids'], encoded['attention_mask']\n",
        "\n",
        "train_input_ids, train_attention_masks = encode(train_texts, tokenizer, MAX_LEN)\n",
        "val_input_ids, val_attention_masks = encode(val_texts, tokenizer, MAX_LEN)\n",
        "test_input_ids, test_attention_masks = encode(test_texts, tokenizer, MAX_LEN)\n",
        "\n",
        "train_labels = torch.tensor(train_labels)\n",
        "val_labels = torch.tensor(val_labels)\n",
        "test_labels = torch.tensor(test_labels)"
      ]
    },
    {
      "cell_type": "code",
      "execution_count": null,
      "metadata": {
        "id": "VJxy9JQajHLn"
      },
      "outputs": [],
      "source": [
        "class SST2Dataset(Dataset):\n",
        "    def __init__(self, input_ids, attention_mask, labels):\n",
        "        self.input_ids = input_ids\n",
        "        self.attention_mask = attention_mask\n",
        "        self.labels = labels\n",
        "\n",
        "    def __len__(self):\n",
        "        return len(self.labels)\n",
        "\n",
        "    def __getitem__(self, idx):\n",
        "        return {\n",
        "            'input_ids': self.input_ids[idx],\n",
        "            'attention_mask': self.attention_mask[idx],\n",
        "            'labels': self.labels[idx]\n",
        "        }"
      ]
    },
    {
      "cell_type": "code",
      "execution_count": null,
      "metadata": {
        "id": "zOEyO2EtjKJk"
      },
      "outputs": [],
      "source": [
        "train_dataset = SST2Dataset(train_input_ids, train_attention_masks, train_labels)\n",
        "val_dataset = SST2Dataset(val_input_ids, val_attention_masks, val_labels)\n",
        "test_dataset = SST2Dataset(test_input_ids, test_attention_masks, test_labels)\n",
        "\n",
        "train_loader = DataLoader(train_dataset, batch_size=batch_size, shuffle=True)\n",
        "val_loader = DataLoader(val_dataset, batch_size=batch_size)\n",
        "test_loader = DataLoader(test_dataset, batch_size=batch_size)"
      ]
    },
    {
      "cell_type": "markdown",
      "metadata": {
        "id": "4kciFEDfvKHB"
      },
      "source": [
        "**BERT Model**"
      ]
    },
    {
      "cell_type": "code",
      "execution_count": null,
      "metadata": {
        "id": "IUOT4UN5jcdI"
      },
      "outputs": [],
      "source": [
        "class BERTSentimentClassifier(nn.Module):\n",
        "    def __init__(self):\n",
        "        super().__init__()\n",
        "        self.bert = BertModel.from_pretrained('bert-base-uncased')\n",
        "        for param in self.bert.parameters():\n",
        "            param.requires_grad = False  # freeze BERT\n",
        "        self.classifier = nn.Linear(self.bert.config.hidden_size, 2)\n",
        "\n",
        "    def forward(self, input_ids, attention_mask):\n",
        "        with torch.no_grad():\n",
        "            outputs = self.bert(input_ids=input_ids, attention_mask=attention_mask)\n",
        "        pooled_output = outputs.pooler_output\n",
        "        logits = self.classifier(pooled_output)\n",
        "        return logits"
      ]
    },
    {
      "cell_type": "code",
      "execution_count": null,
      "metadata": {
        "colab": {
          "base_uri": "https://localhost:8080/",
          "height": 104,
          "referenced_widgets": [
            "11ae370fc88d4a5c8426d9e3ee615d00",
            "85d8e7003c754833a09ca56c87345a52",
            "0aa1bd2c571443018a869514af29a3fc",
            "0ff20b30187141e6860ec94f29bb5593",
            "086a9ffe66b147c2a3413e3657cec080",
            "dcf76cf89bee4e5ab9f9ee5bff56ee15",
            "373906f2018a4da3ad4f98756f83f70d",
            "9b64e1d67023457e9ff11103625b1024",
            "09c24c615d7f4aaebbf7c8949ef0ff69",
            "3b68df2d1a1244bd96f41928b76448e8",
            "e4815174470f431e8db6ace151e983d0"
          ]
        },
        "id": "ktsqB0sujjtB",
        "outputId": "15fde82e-78a0-4ebe-870a-0fdf389a7ec8"
      },
      "outputs": [
        {
          "name": "stderr",
          "output_type": "stream",
          "text": [
            "Xet Storage is enabled for this repo, but the 'hf_xet' package is not installed. Falling back to regular HTTP download. For better performance, install the package with: `pip install huggingface_hub[hf_xet]` or `pip install hf_xet`\n",
            "WARNING:huggingface_hub.file_download:Xet Storage is enabled for this repo, but the 'hf_xet' package is not installed. Falling back to regular HTTP download. For better performance, install the package with: `pip install huggingface_hub[hf_xet]` or `pip install hf_xet`\n"
          ]
        },
        {
          "data": {
            "application/vnd.jupyter.widget-view+json": {
              "model_id": "11ae370fc88d4a5c8426d9e3ee615d00",
              "version_major": 2,
              "version_minor": 0
            },
            "text/plain": [
              "model.safetensors:   0%|          | 0.00/440M [00:00<?, ?B/s]"
            ]
          },
          "metadata": {},
          "output_type": "display_data"
        }
      ],
      "source": [
        "model_3 = BERTSentimentClassifier().to(device)\n",
        "criterion = nn.CrossEntropyLoss()\n",
        "optimizer = torch.optim.Adam(model_3.classifier.parameters(), lr=lr)"
      ]
    },
    {
      "cell_type": "markdown",
      "metadata": {
        "id": "h5XHAuQQvPGV"
      },
      "source": [
        "**Training**"
      ]
    },
    {
      "cell_type": "code",
      "execution_count": null,
      "metadata": {
        "colab": {
          "base_uri": "https://localhost:8080/",
          "height": 559
        },
        "id": "Lyv9kxC_j_h0",
        "outputId": "66cb27c7-18a3-4558-8eaa-78bb5ba3504a"
      },
      "outputs": [
        {
          "name": "stderr",
          "output_type": "stream",
          "text": []
        },
        {
          "name": "stdout",
          "output_type": "stream",
          "text": [
            "Epoch 1: Train Loss=0.5403, Acc=0.7330 | Val Loss=0.4561, Acc=0.8034\n"
          ]
        },
        {
          "name": "stderr",
          "output_type": "stream",
          "text": []
        },
        {
          "name": "stdout",
          "output_type": "stream",
          "text": [
            "Epoch 2: Train Loss=0.4663, Acc=0.7853 | Val Loss=0.4158, Acc=0.8234\n"
          ]
        },
        {
          "name": "stderr",
          "output_type": "stream",
          "text": []
        },
        {
          "name": "stdout",
          "output_type": "stream",
          "text": [
            "Epoch 3: Train Loss=0.4459, Acc=0.7960 | Val Loss=0.4050, Acc=0.8249\n"
          ]
        },
        {
          "name": "stderr",
          "output_type": "stream",
          "text": []
        },
        {
          "name": "stdout",
          "output_type": "stream",
          "text": [
            "Epoch 4: Train Loss=0.4381, Acc=0.8027 | Val Loss=0.4038, Acc=0.8262\n"
          ]
        },
        {
          "name": "stderr",
          "output_type": "stream",
          "text": []
        },
        {
          "name": "stdout",
          "output_type": "stream",
          "text": [
            "Epoch 5: Train Loss=0.4290, Acc=0.8070 | Val Loss=0.4235, Acc=0.8099\n"
          ]
        },
        {
          "data": {
            "image/png": "[encoded data removed]",
            "text/plain": [
              "<Figure size 640x480 with 1 Axes>"
            ]
          },
          "metadata": {},
          "output_type": "display_data"
        }
      ],
      "source": [
        "train_losses_3, val_losses_3 = [], []\n",
        "train_accuracies_3, val_accuracies_3 = [], []\n",
        "\n",
        "for epoch in range(epochs):\n",
        "    model_3.train()\n",
        "    epoch_train_loss = 0.0\n",
        "    correct = 0\n",
        "    total = 0\n",
        "\n",
        "    loop = tqdm(train_loader, desc=f\"Epoch {epoch+1}/{epochs}\", leave=False)\n",
        "    for batch in loop:\n",
        "        input_ids = batch['input_ids'].to(device)\n",
        "        attention_mask = batch['attention_mask'].to(device)\n",
        "        labels = batch['labels'].to(device)\n",
        "\n",
        "        optimizer.zero_grad()\n",
        "        logits = model_3(input_ids, attention_mask)\n",
        "        loss = criterion(logits, labels)\n",
        "        loss.backward()\n",
        "        optimizer.step()\n",
        "\n",
        "        epoch_train_loss += loss.item()\n",
        "\n",
        "        preds = torch.argmax(logits, dim=1)\n",
        "        correct += (preds == labels).sum().item()\n",
        "        total += labels.size(0)\n",
        "\n",
        "        loop.set_postfix(loss=loss.item())\n",
        "\n",
        "    train_loss = epoch_train_loss / len(train_loader)\n",
        "    train_acc = correct / total\n",
        "    train_losses_3.append(train_loss)\n",
        "    train_accuracies_3.append(train_acc)\n",
        "\n",
        "    # Validation\n",
        "    model_3.eval()\n",
        "    epoch_val_loss = 0.0\n",
        "    correct = 0\n",
        "    total = 0\n",
        "    with torch.no_grad():\n",
        "        for batch in val_loader:\n",
        "            input_ids = batch['input_ids'].to(device)\n",
        "            attention_mask = batch['attention_mask'].to(device)\n",
        "            labels = batch['labels'].to(device)\n",
        "\n",
        "            logits = model_3(input_ids, attention_mask)\n",
        "            loss = criterion(logits, labels)\n",
        "            epoch_val_loss += loss.item()\n",
        "\n",
        "            preds = torch.argmax(logits, dim=1)\n",
        "            correct += (preds == labels).sum().item()\n",
        "            total += labels.size(0)\n",
        "\n",
        "    val_loss = epoch_val_loss / len(val_loader)\n",
        "    val_acc = correct / total\n",
        "    val_losses_3.append(val_loss)\n",
        "    val_accuracies_3.append(val_acc)\n",
        "\n",
        "    print(f\"Epoch {epoch+1}: Train Loss={train_loss:.4f}, Acc={train_acc:.4f} | Val Loss={val_loss:.4f}, Acc={val_acc:.4f}\")\n",
        "\n",
        "\n",
        "plt.plot(train_losses_3, label='Train Loss')\n",
        "plt.plot(val_losses_3, label='Validation Loss')\n",
        "plt.xlabel(\"Epochs\")\n",
        "plt.ylabel(\"Loss\")\n",
        "plt.title(\"Training & Validation Loss\")\n",
        "plt.legend()\n",
        "plt.show()"
      ]
    },
    {
      "cell_type": "markdown",
      "metadata": {
        "id": "BYETTZ4WvSWP"
      },
      "source": [
        "**Testing**"
      ]
    },
    {
      "cell_type": "code",
      "execution_count": null,
      "metadata": {
        "colab": {
          "base_uri": "https://localhost:8080/"
        },
        "id": "_YboQESIn0Cy",
        "outputId": "2ca1b292-1b99-4a74-e913-d3fd3c0d28bc"
      },
      "outputs": [
        {
          "name": "stdout",
          "output_type": "stream",
          "text": [
            "Test Accuracy:  0.7489\n",
            "Test Precision: 0.7927\n",
            "Test Recall:    0.7489\n",
            "Test F1 Score:  0.7378\n",
            "\n",
            "\n",
            "Classification Report:\n",
            "              precision    recall  f1-score   support\n",
            "\n",
            "           0       0.91      0.54      0.68       428\n",
            "           1       0.68      0.95      0.79       444\n",
            "\n",
            "    accuracy                           0.75       872\n",
            "   macro avg       0.79      0.75      0.74       872\n",
            "weighted avg       0.79      0.75      0.74       872\n",
            "\n"
          ]
        }
      ],
      "source": [
        "model_3.eval()\n",
        "all_preds = []\n",
        "all_labels = []\n",
        "\n",
        "with torch.no_grad():\n",
        "    for batch in test_loader:\n",
        "        input_ids = batch['input_ids'].to(device)\n",
        "        attention_mask = batch['attention_mask'].to(device)\n",
        "        labels = batch['labels'].to(device)\n",
        "\n",
        "        logits = model_3(input_ids, attention_mask)\n",
        "        preds = torch.argmax(logits, dim=1)\n",
        "\n",
        "        all_preds.extend(preds.cpu().tolist())\n",
        "        all_labels.extend(labels.cpu().tolist())\n",
        "\n",
        "accuracy = accuracy_score(all_labels, all_preds)\n",
        "precision, recall, f1, _ = precision_recall_fscore_support(\n",
        "    all_labels, all_preds, average='weighted', zero_division=0\n",
        ")\n",
        "\n",
        "print(f\"Test Accuracy:  {accuracy:.4f}\")\n",
        "print(f\"Test Precision: {precision:.4f}\")\n",
        "print(f\"Test Recall:    {recall:.4f}\")\n",
        "print(f\"Test F1 Score:  {f1:.4f}\\n\")\n",
        "print(\"\\nClassification Report:\")\n",
        "print(classification_report(all_labels, all_preds, zero_division=0))"
      ]
    },
    {
      "cell_type": "markdown",
      "metadata": {
        "id": "v3RDWMNCvU1T"
      },
      "source": [
        "**Model Summary**"
      ]
    },
    {
      "cell_type": "code",
      "execution_count": null,
      "metadata": {
        "colab": {
          "base_uri": "https://localhost:8080/"
        },
        "id": "pEr-506gtR1U",
        "outputId": "535ebaee-aace-4a7c-e795-a2ef1fffd805"
      },
      "outputs": [
        {
          "name": "stdout",
          "output_type": "stream",
          "text": [
            "BERTSentimentClassifier(\n",
            "  (bert): BertModel(\n",
            "    (embeddings): BertEmbeddings(\n",
            "      (word_embeddings): Embedding(30522, 768, padding_idx=0)\n",
            "      (position_embeddings): Embedding(512, 768)\n",
            "      (token_type_embeddings): Embedding(2, 768)\n",
            "      (LayerNorm): LayerNorm((768,), eps=1e-12, elementwise_affine=True)\n",
            "      (dropout): Dropout(p=0.1, inplace=False)\n",
            "    )\n",
            "    (encoder): BertEncoder(\n",
            "      (layer): ModuleList(\n",
            "        (0-11): 12 x BertLayer(\n",
            "          (attention): BertAttention(\n",
            "            (self): BertSelfAttention(\n",
            "              (query): Linear(in_features=768, out_features=768, bias=True)\n",
            "              (key): Linear(in_features=768, out_features=768, bias=True)\n",
            "              (value): Linear(in_features=768, out_features=768, bias=True)\n",
            "              (dropout): Dropout(p=0.1, inplace=False)\n",
            "            )\n",
            "            (output): BertSelfOutput(\n",
            "              (dense): Linear(in_features=768, out_features=768, bias=True)\n",
            "              (LayerNorm): LayerNorm((768,), eps=1e-12, elementwise_affine=True)\n",
            "              (dropout): Dropout(p=0.1, inplace=False)\n",
            "            )\n",
            "          )\n",
            "          (intermediate): BertIntermediate(\n",
            "            (dense): Linear(in_features=768, out_features=3072, bias=True)\n",
            "            (intermediate_act_fn): GELUActivation()\n",
            "          )\n",
            "          (output): BertOutput(\n",
            "            (dense): Linear(in_features=3072, out_features=768, bias=True)\n",
            "            (LayerNorm): LayerNorm((768,), eps=1e-12, elementwise_affine=True)\n",
            "            (dropout): Dropout(p=0.1, inplace=False)\n",
            "          )\n",
            "        )\n",
            "      )\n",
            "    )\n",
            "    (pooler): BertPooler(\n",
            "      (dense): Linear(in_features=768, out_features=768, bias=True)\n",
            "      (activation): Tanh()\n",
            "    )\n",
            "  )\n",
            "  (classifier): Linear(in_features=768, out_features=2, bias=True)\n",
            ")\n"
          ]
        }
      ],
      "source": [
        "print(model_3)"
      ]
    },
    {
      "cell_type": "code",
      "execution_count": null,
      "metadata": {
        "colab": {
          "base_uri": "https://localhost:8080/"
        },
        "id": "yblWdRFKtVvp",
        "outputId": "581be04f-8cff-4d8e-acce-7d8c2219b28e"
      },
      "outputs": [
        {
          "name": "stdout",
          "output_type": "stream",
          "text": [
            "Parameter training status:\n",
            "\n",
            "bert.embeddings.word_embeddings.weight                       | requires_grad = False\n",
            "bert.embeddings.position_embeddings.weight                   | requires_grad = False\n",
            "bert.embeddings.token_type_embeddings.weight                 | requires_grad = False\n",
            "bert.embeddings.LayerNorm.weight                             | requires_grad = False\n",
            "bert.embeddings.LayerNorm.bias                               | requires_grad = False\n",
            "bert.encoder.layer.0.attention.self.query.weight             | requires_grad = False\n",
            "bert.encoder.layer.0.attention.self.query.bias               | requires_grad = False\n",
            "bert.encoder.layer.0.attention.self.key.weight               | requires_grad = False\n",
            "bert.encoder.layer.0.attention.self.key.bias                 | requires_grad = False\n",
            "bert.encoder.layer.0.attention.self.value.weight             | requires_grad = False\n",
            "bert.encoder.layer.0.attention.self.value.bias               | requires_grad = False\n",
            "bert.encoder.layer.0.attention.output.dense.weight           | requires_grad = False\n",
            "bert.encoder.layer.0.attention.output.dense.bias             | requires_grad = False\n",
            "bert.encoder.layer.0.attention.output.LayerNorm.weight       | requires_grad = False\n",
            "bert.encoder.layer.0.attention.output.LayerNorm.bias         | requires_grad = False\n",
            "bert.encoder.layer.0.intermediate.dense.weight               | requires_grad = False\n",
            "bert.encoder.layer.0.intermediate.dense.bias                 | requires_grad = False\n",
            "bert.encoder.layer.0.output.dense.weight                     | requires_grad = False\n",
            "bert.encoder.layer.0.output.dense.bias                       | requires_grad = False\n",
            "bert.encoder.layer.0.output.LayerNorm.weight                 | requires_grad = False\n",
            "bert.encoder.layer.0.output.LayerNorm.bias                   | requires_grad = False\n",
            "bert.encoder.layer.1.attention.self.query.weight             | requires_grad = False\n",
            "bert.encoder.layer.1.attention.self.query.bias               | requires_grad = False\n",
            "bert.encoder.layer.1.attention.self.key.weight               | requires_grad = False\n",
            "bert.encoder.layer.1.attention.self.key.bias                 | requires_grad = False\n",
            "bert.encoder.layer.1.attention.self.value.weight             | requires_grad = False\n",
            "bert.encoder.layer.1.attention.self.value.bias               | requires_grad = False\n",
            "bert.encoder.layer.1.attention.output.dense.weight           | requires_grad = False\n",
            "bert.encoder.layer.1.attention.output.dense.bias             | requires_grad = False\n",
            "bert.encoder.layer.1.attention.output.LayerNorm.weight       | requires_grad = False\n",
            "bert.encoder.layer.1.attention.output.LayerNorm.bias         | requires_grad = False\n",
            "bert.encoder.layer.1.intermediate.dense.weight               | requires_grad = False\n",
            "bert.encoder.layer.1.intermediate.dense.bias                 | requires_grad = False\n",
            "bert.encoder.layer.1.output.dense.weight                     | requires_grad = False\n",
            "bert.encoder.layer.1.output.dense.bias                       | requires_grad = False\n",
            "bert.encoder.layer.1.output.LayerNorm.weight                 | requires_grad = False\n",
            "bert.encoder.layer.1.output.LayerNorm.bias                   | requires_grad = False\n",
            "bert.encoder.layer.2.attention.self.query.weight             | requires_grad = False\n",
            "bert.encoder.layer.2.attention.self.query.bias               | requires_grad = False\n",
            "bert.encoder.layer.2.attention.self.key.weight               | requires_grad = False\n",
            "bert.encoder.layer.2.attention.self.key.bias                 | requires_grad = False\n",
            "bert.encoder.layer.2.attention.self.value.weight             | requires_grad = False\n",
            "bert.encoder.layer.2.attention.self.value.bias               | requires_grad = False\n",
            "bert.encoder.layer.2.attention.output.dense.weight           | requires_grad = False\n",
            "bert.encoder.layer.2.attention.output.dense.bias             | requires_grad = False\n",
            "bert.encoder.layer.2.attention.output.LayerNorm.weight       | requires_grad = False\n",
            "bert.encoder.layer.2.attention.output.LayerNorm.bias         | requires_grad = False\n",
            "bert.encoder.layer.2.intermediate.dense.weight               | requires_grad = False\n",
            "bert.encoder.layer.2.intermediate.dense.bias                 | requires_grad = False\n",
            "bert.encoder.layer.2.output.dense.weight                     | requires_grad = False\n",
            "bert.encoder.layer.2.output.dense.bias                       | requires_grad = False\n",
            "bert.encoder.layer.2.output.LayerNorm.weight                 | requires_grad = False\n",
            "bert.encoder.layer.2.output.LayerNorm.bias                   | requires_grad = False\n",
            "bert.encoder.layer.3.attention.self.query.weight             | requires_grad = False\n",
            "bert.encoder.layer.3.attention.self.query.bias               | requires_grad = False\n",
            "bert.encoder.layer.3.attention.self.key.weight               | requires_grad = False\n",
            "bert.encoder.layer.3.attention.self.key.bias                 | requires_grad = False\n",
            "bert.encoder.layer.3.attention.self.value.weight             | requires_grad = False\n",
            "bert.encoder.layer.3.attention.self.value.bias               | requires_grad = False\n",
            "bert.encoder.layer.3.attention.output.dense.weight           | requires_grad = False\n",
            "bert.encoder.layer.3.attention.output.dense.bias             | requires_grad = False\n",
            "bert.encoder.layer.3.attention.output.LayerNorm.weight       | requires_grad = False\n",
            "bert.encoder.layer.3.attention.output.LayerNorm.bias         | requires_grad = False\n",
            "bert.encoder.layer.3.intermediate.dense.weight               | requires_grad = False\n",
            "bert.encoder.layer.3.intermediate.dense.bias                 | requires_grad = False\n",
            "bert.encoder.layer.3.output.dense.weight                     | requires_grad = False\n",
            "bert.encoder.layer.3.output.dense.bias                       | requires_grad = False\n",
            "bert.encoder.layer.3.output.LayerNorm.weight                 | requires_grad = False\n",
            "bert.encoder.layer.3.output.LayerNorm.bias                   | requires_grad = False\n",
            "bert.encoder.layer.4.attention.self.query.weight             | requires_grad = False\n",
            "bert.encoder.layer.4.attention.self.query.bias               | requires_grad = False\n",
            "bert.encoder.layer.4.attention.self.key.weight               | requires_grad = False\n",
            "bert.encoder.layer.4.attention.self.key.bias                 | requires_grad = False\n",
            "bert.encoder.layer.4.attention.self.value.weight             | requires_grad = False\n",
            "bert.encoder.layer.4.attention.self.value.bias               | requires_grad = False\n",
            "bert.encoder.layer.4.attention.output.dense.weight           | requires_grad = False\n",
            "bert.encoder.layer.4.attention.output.dense.bias             | requires_grad = False\n",
            "bert.encoder.layer.4.attention.output.LayerNorm.weight       | requires_grad = False\n",
            "bert.encoder.layer.4.attention.output.LayerNorm.bias         | requires_grad = False\n",
            "bert.encoder.layer.4.intermediate.dense.weight               | requires_grad = False\n",
            "bert.encoder.layer.4.intermediate.dense.bias                 | requires_grad = False\n",
            "bert.encoder.layer.4.output.dense.weight                     | requires_grad = False\n",
            "bert.encoder.layer.4.output.dense.bias                       | requires_grad = False\n",
            "bert.encoder.layer.4.output.LayerNorm.weight                 | requires_grad = False\n",
            "bert.encoder.layer.4.output.LayerNorm.bias                   | requires_grad = False\n",
            "bert.encoder.layer.5.attention.self.query.weight             | requires_grad = False\n",
            "bert.encoder.layer.5.attention.self.query.bias               | requires_grad = False\n",
            "bert.encoder.layer.5.attention.self.key.weight               | requires_grad = False\n",
            "bert.encoder.layer.5.attention.self.key.bias                 | requires_grad = False\n",
            "bert.encoder.layer.5.attention.self.value.weight             | requires_grad = False\n",
            "bert.encoder.layer.5.attention.self.value.bias               | requires_grad = False\n",
            "bert.encoder.layer.5.attention.output.dense.weight           | requires_grad = False\n",
            "bert.encoder.layer.5.attention.output.dense.bias             | requires_grad = False\n",
            "bert.encoder.layer.5.attention.output.LayerNorm.weight       | requires_grad = False\n",
            "bert.encoder.layer.5.attention.output.LayerNorm.bias         | requires_grad = False\n",
            "bert.encoder.layer.5.intermediate.dense.weight               | requires_grad = False\n",
            "bert.encoder.layer.5.intermediate.dense.bias                 | requires_grad = False\n",
            "bert.encoder.layer.5.output.dense.weight                     | requires_grad = False\n",
            "bert.encoder.layer.5.output.dense.bias                       | requires_grad = False\n",
            "bert.encoder.layer.5.output.LayerNorm.weight                 | requires_grad = False\n",
            "bert.encoder.layer.5.output.LayerNorm.bias                   | requires_grad = False\n",
            "bert.encoder.layer.6.attention.self.query.weight             | requires_grad = False\n",
            "bert.encoder.layer.6.attention.self.query.bias               | requires_grad = False\n",
            "bert.encoder.layer.6.attention.self.key.weight               | requires_grad = False\n",
            "bert.encoder.layer.6.attention.self.key.bias                 | requires_grad = False\n",
            "bert.encoder.layer.6.attention.self.value.weight             | requires_grad = False\n",
            "bert.encoder.layer.6.attention.self.value.bias               | requires_grad = False\n",
            "bert.encoder.layer.6.attention.output.dense.weight           | requires_grad = False\n",
            "bert.encoder.layer.6.attention.output.dense.bias             | requires_grad = False\n",
            "bert.encoder.layer.6.attention.output.LayerNorm.weight       | requires_grad = False\n",
            "bert.encoder.layer.6.attention.output.LayerNorm.bias         | requires_grad = False\n",
            "bert.encoder.layer.6.intermediate.dense.weight               | requires_grad = False\n",
            "bert.encoder.layer.6.intermediate.dense.bias                 | requires_grad = False\n",
            "bert.encoder.layer.6.output.dense.weight                     | requires_grad = False\n",
            "bert.encoder.layer.6.output.dense.bias                       | requires_grad = False\n",
            "bert.encoder.layer.6.output.LayerNorm.weight                 | requires_grad = False\n",
            "bert.encoder.layer.6.output.LayerNorm.bias                   | requires_grad = False\n",
            "bert.encoder.layer.7.attention.self.query.weight             | requires_grad = False\n",
            "bert.encoder.layer.7.attention.self.query.bias               | requires_grad = False\n",
            "bert.encoder.layer.7.attention.self.key.weight               | requires_grad = False\n",
            "bert.encoder.layer.7.attention.self.key.bias                 | requires_grad = False\n",
            "bert.encoder.layer.7.attention.self.value.weight             | requires_grad = False\n",
            "bert.encoder.layer.7.attention.self.value.bias               | requires_grad = False\n",
            "bert.encoder.layer.7.attention.output.dense.weight           | requires_grad = False\n",
            "bert.encoder.layer.7.attention.output.dense.bias             | requires_grad = False\n",
            "bert.encoder.layer.7.attention.output.LayerNorm.weight       | requires_grad = False\n",
            "bert.encoder.layer.7.attention.output.LayerNorm.bias         | requires_grad = False\n",
            "bert.encoder.layer.7.intermediate.dense.weight               | requires_grad = False\n",
            "bert.encoder.layer.7.intermediate.dense.bias                 | requires_grad = False\n",
            "bert.encoder.layer.7.output.dense.weight                     | requires_grad = False\n",
            "bert.encoder.layer.7.output.dense.bias                       | requires_grad = False\n",
            "bert.encoder.layer.7.output.LayerNorm.weight                 | requires_grad = False\n",
            "bert.encoder.layer.7.output.LayerNorm.bias                   | requires_grad = False\n",
            "bert.encoder.layer.8.attention.self.query.weight             | requires_grad = False\n",
            "bert.encoder.layer.8.attention.self.query.bias               | requires_grad = False\n",
            "bert.encoder.layer.8.attention.self.key.weight               | requires_grad = False\n",
            "bert.encoder.layer.8.attention.self.key.bias                 | requires_grad = False\n",
            "bert.encoder.layer.8.attention.self.value.weight             | requires_grad = False\n",
            "bert.encoder.layer.8.attention.self.value.bias               | requires_grad = False\n",
            "bert.encoder.layer.8.attention.output.dense.weight           | requires_grad = False\n",
            "bert.encoder.layer.8.attention.output.dense.bias             | requires_grad = False\n",
            "bert.encoder.layer.8.attention.output.LayerNorm.weight       | requires_grad = False\n",
            "bert.encoder.layer.8.attention.output.LayerNorm.bias         | requires_grad = False\n",
            "bert.encoder.layer.8.intermediate.dense.weight               | requires_grad = False\n",
            "bert.encoder.layer.8.intermediate.dense.bias                 | requires_grad = False\n",
            "bert.encoder.layer.8.output.dense.weight                     | requires_grad = False\n",
            "bert.encoder.layer.8.output.dense.bias                       | requires_grad = False\n",
            "bert.encoder.layer.8.output.LayerNorm.weight                 | requires_grad = False\n",
            "bert.encoder.layer.8.output.LayerNorm.bias                   | requires_grad = False\n",
            "bert.encoder.layer.9.attention.self.query.weight             | requires_grad = False\n",
            "bert.encoder.layer.9.attention.self.query.bias               | requires_grad = False\n",
            "bert.encoder.layer.9.attention.self.key.weight               | requires_grad = False\n",
            "bert.encoder.layer.9.attention.self.key.bias                 | requires_grad = False\n",
            "bert.encoder.layer.9.attention.self.value.weight             | requires_grad = False\n",
            "bert.encoder.layer.9.attention.self.value.bias               | requires_grad = False\n",
            "bert.encoder.layer.9.attention.output.dense.weight           | requires_grad = False\n",
            "bert.encoder.layer.9.attention.output.dense.bias             | requires_grad = False\n",
            "bert.encoder.layer.9.attention.output.LayerNorm.weight       | requires_grad = False\n",
            "bert.encoder.layer.9.attention.output.LayerNorm.bias         | requires_grad = False\n",
            "bert.encoder.layer.9.intermediate.dense.weight               | requires_grad = False\n",
            "bert.encoder.layer.9.intermediate.dense.bias                 | requires_grad = False\n",
            "bert.encoder.layer.9.output.dense.weight                     | requires_grad = False\n",
            "bert.encoder.layer.9.output.dense.bias                       | requires_grad = False\n",
            "bert.encoder.layer.9.output.LayerNorm.weight                 | requires_grad = False\n",
            "bert.encoder.layer.9.output.LayerNorm.bias                   | requires_grad = False\n",
            "bert.encoder.layer.10.attention.self.query.weight            | requires_grad = False\n",
            "bert.encoder.layer.10.attention.self.query.bias              | requires_grad = False\n",
            "bert.encoder.layer.10.attention.self.key.weight              | requires_grad = False\n",
            "bert.encoder.layer.10.attention.self.key.bias                | requires_grad = False\n",
            "bert.encoder.layer.10.attention.self.value.weight            | requires_grad = False\n",
            "bert.encoder.layer.10.attention.self.value.bias              | requires_grad = False\n",
            "bert.encoder.layer.10.attention.output.dense.weight          | requires_grad = False\n",
            "bert.encoder.layer.10.attention.output.dense.bias            | requires_grad = False\n",
            "bert.encoder.layer.10.attention.output.LayerNorm.weight      | requires_grad = False\n",
            "bert.encoder.layer.10.attention.output.LayerNorm.bias        | requires_grad = False\n",
            "bert.encoder.layer.10.intermediate.dense.weight              | requires_grad = False\n",
            "bert.encoder.layer.10.intermediate.dense.bias                | requires_grad = False\n",
            "bert.encoder.layer.10.output.dense.weight                    | requires_grad = False\n",
            "bert.encoder.layer.10.output.dense.bias                      | requires_grad = False\n",
            "bert.encoder.layer.10.output.LayerNorm.weight                | requires_grad = False\n",
            "bert.encoder.layer.10.output.LayerNorm.bias                  | requires_grad = False\n",
            "bert.encoder.layer.11.attention.self.query.weight            | requires_grad = False\n",
            "bert.encoder.layer.11.attention.self.query.bias              | requires_grad = False\n",
            "bert.encoder.layer.11.attention.self.key.weight              | requires_grad = False\n",
            "bert.encoder.layer.11.attention.self.key.bias                | requires_grad = False\n",
            "bert.encoder.layer.11.attention.self.value.weight            | requires_grad = False\n",
            "bert.encoder.layer.11.attention.self.value.bias              | requires_grad = False\n",
            "bert.encoder.layer.11.attention.output.dense.weight          | requires_grad = False\n",
            "bert.encoder.layer.11.attention.output.dense.bias            | requires_grad = False\n",
            "bert.encoder.layer.11.attention.output.LayerNorm.weight      | requires_grad = False\n",
            "bert.encoder.layer.11.attention.output.LayerNorm.bias        | requires_grad = False\n",
            "bert.encoder.layer.11.intermediate.dense.weight              | requires_grad = False\n",
            "bert.encoder.layer.11.intermediate.dense.bias                | requires_grad = False\n",
            "bert.encoder.layer.11.output.dense.weight                    | requires_grad = False\n",
            "bert.encoder.layer.11.output.dense.bias                      | requires_grad = False\n",
            "bert.encoder.layer.11.output.LayerNorm.weight                | requires_grad = False\n",
            "bert.encoder.layer.11.output.LayerNorm.bias                  | requires_grad = False\n",
            "bert.pooler.dense.weight                                     | requires_grad = False\n",
            "bert.pooler.dense.bias                                       | requires_grad = False\n",
            "classifier.weight                                            | requires_grad = True\n",
            "classifier.bias                                              | requires_grad = True\n"
          ]
        }
      ],
      "source": [
        "print(\"Parameter training status:\\n\")\n",
        "for name, param in model_3.named_parameters():\n",
        "    print(f\"{name:60s} | requires_grad = {param.requires_grad}\")"
      ]
    },
    {
      "cell_type": "markdown",
      "metadata": {
        "id": "uj7b5qcDvcWM"
      },
      "source": [
        "* All 3 transformer models give comparable performance on the test dataset\n",
        "*   Custom Encoder Model : 75.57%\n",
        "*   Using nn.TransformerEncoderLayer : 75.57%\n",
        "*   BERT : 74.89%\n",
        "* The validation accuracy is much higher in BERT model"
      ]
    }
  ],
  "metadata": {
    "accelerator": "GPU",
    "colab": {
      "gpuType": "T4",
      "provenance": []
    },
    "kernelspec": {
      "display_name": "Python 3",
      "name": "python3"
    },
    "language_info": {
      "name": "python"
    },
    "widgets": {
      "application/vnd.jupyter.widget-state+json": {
        "04c9120f452a4c57882795de06e78a22": {
          "model_module": "@jupyter-widgets/base",
          "model_module_version": "1.2.0",
          "model_name": "LayoutModel",
          "state": {
            "_model_module": "@jupyter-widgets/base",
            "_model_module_version": "1.2.0",
            "_model_name": "LayoutModel",
            "_view_count": null,
            "_view_module": "@jupyter-widgets/base",
            "_view_module_version": "1.2.0",
            "_view_name": "LayoutView",
            "align_content": null,
            "align_items": null,
            "align_self": null,
            "border": null,
            "bottom": null,
            "display": null,
            "flex": null,
            "flex_flow": null,
            "grid_area": null,
            "grid_auto_columns": null,
            "grid_auto_flow": null,
            "grid_auto_rows": null,
            "grid_column": null,
            "grid_gap": null,
            "grid_row": null,
            "grid_template_areas": null,
            "grid_template_columns": null,
            "grid_template_rows": null,
            "height": null,
            "justify_content": null,
            "justify_items": null,
            "left": null,
            "margin": null,
            "max_height": null,
            "max_width": null,
            "min_height": null,
            "min_width": null,
            "object_fit": null,
            "object_position": null,
            "order": null,
            "overflow": null,
            "overflow_x": null,
            "overflow_y": null,
            "padding": null,
            "right": null,
            "top": null,
            "visibility": null,
            "width": null
          }
        },
        "0531dfcb63b34dd1be42ab50413f58ad": {
          "model_module": "@jupyter-widgets/controls",
          "model_module_version": "1.5.0",
          "model_name": "DescriptionStyleModel",
          "state": {
            "_model_module": "@jupyter-widgets/controls",
            "_model_module_version": "1.5.0",
            "_model_name": "DescriptionStyleModel",
            "_view_count": null,
            "_view_module": "@jupyter-widgets/base",
            "_view_module_version": "1.2.0",
            "_view_name": "StyleView",
            "description_width": ""
          }
        },
        "086a9ffe66b147c2a3413e3657cec080": {
          "model_module": "@jupyter-widgets/base",
          "model_module_version": "1.2.0",
          "model_name": "LayoutModel",
          "state": {
            "_model_module": "@jupyter-widgets/base",
            "_model_module_version": "1.2.0",
            "_model_name": "LayoutModel",
            "_view_count": null,
            "_view_module": "@jupyter-widgets/base",
            "_view_module_version": "1.2.0",
            "_view_name": "LayoutView",
            "align_content": null,
            "align_items": null,
            "align_self": null,
            "border": null,
            "bottom": null,
            "display": null,
            "flex": null,
            "flex_flow": null,
            "grid_area": null,
            "grid_auto_columns": null,
            "grid_auto_flow": null,
            "grid_auto_rows": null,
            "grid_column": null,
            "grid_gap": null,
            "grid_row": null,
            "grid_template_areas": null,
            "grid_template_columns": null,
            "grid_template_rows": null,
            "height": null,
            "justify_content": null,
            "justify_items": null,
            "left": null,
            "margin": null,
            "max_height": null,
            "max_width": null,
            "min_height": null,
            "min_width": null,
            "object_fit": null,
            "object_position": null,
            "order": null,
            "overflow": null,
            "overflow_x": null,
            "overflow_y": null,
            "padding": null,
            "right": null,
            "top": null,
            "visibility": null,
            "width": null
          }
        },
        "09c24c615d7f4aaebbf7c8949ef0ff69": {
          "model_module": "@jupyter-widgets/controls",
          "model_module_version": "1.5.0",
          "model_name": "ProgressStyleModel",
          "state": {
            "_model_module": "@jupyter-widgets/controls",
            "_model_module_version": "1.5.0",
            "_model_name": "ProgressStyleModel",
            "_view_count": null,
            "_view_module": "@jupyter-widgets/base",
            "_view_module_version": "1.2.0",
            "_view_name": "StyleView",
            "bar_color": null,
            "description_width": ""
          }
        },
        "0aa1bd2c571443018a869514af29a3fc": {
          "model_module": "@jupyter-widgets/controls",
          "model_module_version": "1.5.0",
          "model_name": "FloatProgressModel",
          "state": {
            "_dom_classes": [],
            "_model_module": "@jupyter-widgets/controls",
            "_model_module_version": "1.5.0",
            "_model_name": "FloatProgressModel",
            "_view_count": null,
            "_view_module": "@jupyter-widgets/controls",
            "_view_module_version": "1.5.0",
            "_view_name": "ProgressView",
            "bar_style": "success",
            "description": "",
            "description_tooltip": null,
            "layout": "IPY_MODEL_9b64e1d67023457e9ff11103625b1024",
            "max": 440449768,
            "min": 0,
            "orientation": "horizontal",
            "style": "IPY_MODEL_09c24c615d7f4aaebbf7c8949ef0ff69",
            "value": 440449768
          }
        },
        "0ff20b30187141e6860ec94f29bb5593": {
          "model_module": "@jupyter-widgets/controls",
          "model_module_version": "1.5.0",
          "model_name": "HTMLModel",
          "state": {
            "_dom_classes": [],
            "_model_module": "@jupyter-widgets/controls",
            "_model_module_version": "1.5.0",
            "_model_name": "HTMLModel",
            "_view_count": null,
            "_view_module": "@jupyter-widgets/controls",
            "_view_module_version": "1.5.0",
            "_view_name": "HTMLView",
            "description": "",
            "description_tooltip": null,
            "layout": "IPY_MODEL_3b68df2d1a1244bd96f41928b76448e8",
            "placeholder": "​",
            "style": "IPY_MODEL_e4815174470f431e8db6ace151e983d0",
            "value": " 440M/440M [00:02&lt;00:00, 233MB/s]"
          }
        },
        "11ae370fc88d4a5c8426d9e3ee615d00": {
          "model_module": "@jupyter-widgets/controls",
          "model_module_version": "1.5.0",
          "model_name": "HBoxModel",
          "state": {
            "_dom_classes": [],
            "_model_module": "@jupyter-widgets/controls",
            "_model_module_version": "1.5.0",
            "_model_name": "HBoxModel",
            "_view_count": null,
            "_view_module": "@jupyter-widgets/controls",
            "_view_module_version": "1.5.0",
            "_view_name": "HBoxView",
            "box_style": "",
            "children": [
              "IPY_MODEL_85d8e7003c754833a09ca56c87345a52",
              "IPY_MODEL_0aa1bd2c571443018a869514af29a3fc",
              "IPY_MODEL_0ff20b30187141e6860ec94f29bb5593"
            ],
            "layout": "IPY_MODEL_086a9ffe66b147c2a3413e3657cec080"
          }
        },
        "1cc17ee7280c436b81d688f5688f727e": {
          "model_module": "@jupyter-widgets/controls",
          "model_module_version": "1.5.0",
          "model_name": "HTMLModel",
          "state": {
            "_dom_classes": [],
            "_model_module": "@jupyter-widgets/controls",
            "_model_module_version": "1.5.0",
            "_model_name": "HTMLModel",
            "_view_count": null,
            "_view_module": "@jupyter-widgets/controls",
            "_view_module_version": "1.5.0",
            "_view_name": "HTMLView",
            "description": "",
            "description_tooltip": null,
            "layout": "IPY_MODEL_04c9120f452a4c57882795de06e78a22",
            "placeholder": "​",
            "style": "IPY_MODEL_a1b3197206294b4e98772c9674d7811f",
            "value": " 48.0/48.0 [00:00&lt;00:00, 1.27kB/s]"
          }
        },
        "2364a829d2e24fb6871961b212c5a121": {
          "model_module": "@jupyter-widgets/controls",
          "model_module_version": "1.5.0",
          "model_name": "DescriptionStyleModel",
          "state": {
            "_model_module": "@jupyter-widgets/controls",
            "_model_module_version": "1.5.0",
            "_model_name": "DescriptionStyleModel",
            "_view_count": null,
            "_view_module": "@jupyter-widgets/base",
            "_view_module_version": "1.2.0",
            "_view_name": "StyleView",
            "description_width": ""
          }
        },
        "26c3e3e110164e9c9402a518e4dee47b": {
          "model_module": "@jupyter-widgets/controls",
          "model_module_version": "1.5.0",
          "model_name": "DescriptionStyleModel",
          "state": {
            "_model_module": "@jupyter-widgets/controls",
            "_model_module_version": "1.5.0",
            "_model_name": "DescriptionStyleModel",
            "_view_count": null,
            "_view_module": "@jupyter-widgets/base",
            "_view_module_version": "1.2.0",
            "_view_name": "StyleView",
            "description_width": ""
          }
        },
        "2d9bdef4b5e34abdb6bfb2f9015158b9": {
          "model_module": "@jupyter-widgets/controls",
          "model_module_version": "1.5.0",
          "model_name": "FloatProgressModel",
          "state": {
            "_dom_classes": [],
            "_model_module": "@jupyter-widgets/controls",
            "_model_module_version": "1.5.0",
            "_model_name": "FloatProgressModel",
            "_view_count": null,
            "_view_module": "@jupyter-widgets/controls",
            "_view_module_version": "1.5.0",
            "_view_name": "ProgressView",
            "bar_style": "success",
            "description": "",
            "description_tooltip": null,
            "layout": "IPY_MODEL_759a5930d9d147ef96ae48cc3489730a",
            "max": 570,
            "min": 0,
            "orientation": "horizontal",
            "style": "IPY_MODEL_c8d71352ceab49d9bb3ab826dd2f2d7f",
            "value": 570
          }
        },
        "36f9e356af084719bd6db359bca871b9": {
          "model_module": "@jupyter-widgets/controls",
          "model_module_version": "1.5.0",
          "model_name": "FloatProgressModel",
          "state": {
            "_dom_classes": [],
            "_model_module": "@jupyter-widgets/controls",
            "_model_module_version": "1.5.0",
            "_model_name": "FloatProgressModel",
            "_view_count": null,
            "_view_module": "@jupyter-widgets/controls",
            "_view_module_version": "1.5.0",
            "_view_name": "ProgressView",
            "bar_style": "success",
            "description": "",
            "description_tooltip": null,
            "layout": "IPY_MODEL_d169ba961a714ad6960d1bd340235a3b",
            "max": 231508,
            "min": 0,
            "orientation": "horizontal",
            "style": "IPY_MODEL_5f9bf6af30934bc7b09e36970b77f1ac",
            "value": 231508
          }
        },
        "37354a12d53b4197adef7da193a27037": {
          "model_module": "@jupyter-widgets/controls",
          "model_module_version": "1.5.0",
          "model_name": "DescriptionStyleModel",
          "state": {
            "_model_module": "@jupyter-widgets/controls",
            "_model_module_version": "1.5.0",
            "_model_name": "DescriptionStyleModel",
            "_view_count": null,
            "_view_module": "@jupyter-widgets/base",
            "_view_module_version": "1.2.0",
            "_view_name": "StyleView",
            "description_width": ""
          }
        },
        "373906f2018a4da3ad4f98756f83f70d": {
          "model_module": "@jupyter-widgets/controls",
          "model_module_version": "1.5.0",
          "model_name": "DescriptionStyleModel",
          "state": {
            "_model_module": "@jupyter-widgets/controls",
            "_model_module_version": "1.5.0",
            "_model_name": "DescriptionStyleModel",
            "_view_count": null,
            "_view_module": "@jupyter-widgets/base",
            "_view_module_version": "1.2.0",
            "_view_name": "StyleView",
            "description_width": ""
          }
        },
        "3ac900bb6c794374aa00e8cd6deed221": {
          "model_module": "@jupyter-widgets/controls",
          "model_module_version": "1.5.0",
          "model_name": "HTMLModel",
          "state": {
            "_dom_classes": [],
            "_model_module": "@jupyter-widgets/controls",
            "_model_module_version": "1.5.0",
            "_model_name": "HTMLModel",
            "_view_count": null,
            "_view_module": "@jupyter-widgets/controls",
            "_view_module_version": "1.5.0",
            "_view_name": "HTMLView",
            "description": "",
            "description_tooltip": null,
            "layout": "IPY_MODEL_a063ce846b8c4f8d9e53ff7aa97c7ce1",
            "placeholder": "​",
            "style": "IPY_MODEL_26c3e3e110164e9c9402a518e4dee47b",
            "value": "vocab.txt: 100%"
          }
        },
        "3b68df2d1a1244bd96f41928b76448e8": {
          "model_module": "@jupyter-widgets/base",
          "model_module_version": "1.2.0",
          "model_name": "LayoutModel",
          "state": {
            "_model_module": "@jupyter-widgets/base",
            "_model_module_version": "1.2.0",
            "_model_name": "LayoutModel",
            "_view_count": null,
            "_view_module": "@jupyter-widgets/base",
            "_view_module_version": "1.2.0",
            "_view_name": "LayoutView",
            "align_content": null,
            "align_items": null,
            "align_self": null,
            "border": null,
            "bottom": null,
            "display": null,
            "flex": null,
            "flex_flow": null,
            "grid_area": null,
            "grid_auto_columns": null,
            "grid_auto_flow": null,
            "grid_auto_rows": null,
            "grid_column": null,
            "grid_gap": null,
            "grid_row": null,
            "grid_template_areas": null,
            "grid_template_columns": null,
            "grid_template_rows": null,
            "height": null,
            "justify_content": null,
            "justify_items": null,
            "left": null,
            "margin": null,
            "max_height": null,
            "max_width": null,
            "min_height": null,
            "min_width": null,
            "object_fit": null,
            "object_position": null,
            "order": null,
            "overflow": null,
            "overflow_x": null,
            "overflow_y": null,
            "padding": null,
            "right": null,
            "top": null,
            "visibility": null,
            "width": null
          }
        },
        "4534483a41134908a8e4a1a14579ce8e": {
          "model_module": "@jupyter-widgets/base",
          "model_module_version": "1.2.0",
          "model_name": "LayoutModel",
          "state": {
            "_model_module": "@jupyter-widgets/base",
            "_model_module_version": "1.2.0",
            "_model_name": "LayoutModel",
            "_view_count": null,
            "_view_module": "@jupyter-widgets/base",
            "_view_module_version": "1.2.0",
            "_view_name": "LayoutView",
            "align_content": null,
            "align_items": null,
            "align_self": null,
            "border": null,
            "bottom": null,
            "display": null,
            "flex": null,
            "flex_flow": null,
            "grid_area": null,
            "grid_auto_columns": null,
            "grid_auto_flow": null,
            "grid_auto_rows": null,
            "grid_column": null,
            "grid_gap": null,
            "grid_row": null,
            "grid_template_areas": null,
            "grid_template_columns": null,
            "grid_template_rows": null,
            "height": null,
            "justify_content": null,
            "justify_items": null,
            "left": null,
            "margin": null,
            "max_height": null,
            "max_width": null,
            "min_height": null,
            "min_width": null,
            "object_fit": null,
            "object_position": null,
            "order": null,
            "overflow": null,
            "overflow_x": null,
            "overflow_y": null,
            "padding": null,
            "right": null,
            "top": null,
            "visibility": null,
            "width": null
          }
        },
        "52fee0a93fc6466c9925dd512aaac738": {
          "model_module": "@jupyter-widgets/controls",
          "model_module_version": "1.5.0",
          "model_name": "HBoxModel",
          "state": {
            "_dom_classes": [],
            "_model_module": "@jupyter-widgets/controls",
            "_model_module_version": "1.5.0",
            "_model_name": "HBoxModel",
            "_view_count": null,
            "_view_module": "@jupyter-widgets/controls",
            "_view_module_version": "1.5.0",
            "_view_name": "HBoxView",
            "box_style": "",
            "children": [
              "IPY_MODEL_a094f0f8b4d64f159a521db2973960d7",
              "IPY_MODEL_f2ee206d213346e9a4d39fc2a80edb41",
              "IPY_MODEL_1cc17ee7280c436b81d688f5688f727e"
            ],
            "layout": "IPY_MODEL_b27ccfd06e9b491a8f8da36c7a2e4b45"
          }
        },
        "56862e8b1c5345de9ddc6279394b9d0d": {
          "model_module": "@jupyter-widgets/controls",
          "model_module_version": "1.5.0",
          "model_name": "HTMLModel",
          "state": {
            "_dom_classes": [],
            "_model_module": "@jupyter-widgets/controls",
            "_model_module_version": "1.5.0",
            "_model_name": "HTMLModel",
            "_view_count": null,
            "_view_module": "@jupyter-widgets/controls",
            "_view_module_version": "1.5.0",
            "_view_name": "HTMLView",
            "description": "",
            "description_tooltip": null,
            "layout": "IPY_MODEL_4534483a41134908a8e4a1a14579ce8e",
            "placeholder": "​",
            "style": "IPY_MODEL_2364a829d2e24fb6871961b212c5a121",
            "value": "config.json: 100%"
          }
        },
        "5c2794b273344e1492da6e0d34f653ca": {
          "model_module": "@jupyter-widgets/base",
          "model_module_version": "1.2.0",
          "model_name": "LayoutModel",
          "state": {
            "_model_module": "@jupyter-widgets/base",
            "_model_module_version": "1.2.0",
            "_model_name": "LayoutModel",
            "_view_count": null,
            "_view_module": "@jupyter-widgets/base",
            "_view_module_version": "1.2.0",
            "_view_name": "LayoutView",
            "align_content": null,
            "align_items": null,
            "align_self": null,
            "border": null,
            "bottom": null,
            "display": null,
            "flex": null,
            "flex_flow": null,
            "grid_area": null,
            "grid_auto_columns": null,
            "grid_auto_flow": null,
            "grid_auto_rows": null,
            "grid_column": null,
            "grid_gap": null,
            "grid_row": null,
            "grid_template_areas": null,
            "grid_template_columns": null,
            "grid_template_rows": null,
            "height": null,
            "justify_content": null,
            "justify_items": null,
            "left": null,
            "margin": null,
            "max_height": null,
            "max_width": null,
            "min_height": null,
            "min_width": null,
            "object_fit": null,
            "object_position": null,
            "order": null,
            "overflow": null,
            "overflow_x": null,
            "overflow_y": null,
            "padding": null,
            "right": null,
            "top": null,
            "visibility": null,
            "width": null
          }
        },
        "5f9bf6af30934bc7b09e36970b77f1ac": {
          "model_module": "@jupyter-widgets/controls",
          "model_module_version": "1.5.0",
          "model_name": "ProgressStyleModel",
          "state": {
            "_model_module": "@jupyter-widgets/controls",
            "_model_module_version": "1.5.0",
            "_model_name": "ProgressStyleModel",
            "_view_count": null,
            "_view_module": "@jupyter-widgets/base",
            "_view_module_version": "1.2.0",
            "_view_name": "StyleView",
            "bar_color": null,
            "description_width": ""
          }
        },
        "6d1e4f9bab7349c1b6a761ac46d67332": {
          "model_module": "@jupyter-widgets/controls",
          "model_module_version": "1.5.0",
          "model_name": "HTMLModel",
          "state": {
            "_dom_classes": [],
            "_model_module": "@jupyter-widgets/controls",
            "_model_module_version": "1.5.0",
            "_model_name": "HTMLModel",
            "_view_count": null,
            "_view_module": "@jupyter-widgets/controls",
            "_view_module_version": "1.5.0",
            "_view_name": "HTMLView",
            "description": "",
            "description_tooltip": null,
            "layout": "IPY_MODEL_c36bb49c153c44978fb296f99351a9f6",
            "placeholder": "​",
            "style": "IPY_MODEL_37354a12d53b4197adef7da193a27037",
            "value": " 570/570 [00:00&lt;00:00, 32.4kB/s]"
          }
        },
        "72af3ee7177649349144612e6a2d956e": {
          "model_module": "@jupyter-widgets/controls",
          "model_module_version": "1.5.0",
          "model_name": "DescriptionStyleModel",
          "state": {
            "_model_module": "@jupyter-widgets/controls",
            "_model_module_version": "1.5.0",
            "_model_name": "DescriptionStyleModel",
            "_view_count": null,
            "_view_module": "@jupyter-widgets/base",
            "_view_module_version": "1.2.0",
            "_view_name": "StyleView",
            "description_width": ""
          }
        },
        "759a5930d9d147ef96ae48cc3489730a": {
          "model_module": "@jupyter-widgets/base",
          "model_module_version": "1.2.0",
          "model_name": "LayoutModel",
          "state": {
            "_model_module": "@jupyter-widgets/base",
            "_model_module_version": "1.2.0",
            "_model_name": "LayoutModel",
            "_view_count": null,
            "_view_module": "@jupyter-widgets/base",
            "_view_module_version": "1.2.0",
            "_view_name": "LayoutView",
            "align_content": null,
            "align_items": null,
            "align_self": null,
            "border": null,
            "bottom": null,
            "display": null,
            "flex": null,
            "flex_flow": null,
            "grid_area": null,
            "grid_auto_columns": null,
            "grid_auto_flow": null,
            "grid_auto_rows": null,
            "grid_column": null,
            "grid_gap": null,
            "grid_row": null,
            "grid_template_areas": null,
            "grid_template_columns": null,
            "grid_template_rows": null,
            "height": null,
            "justify_content": null,
            "justify_items": null,
            "left": null,
            "margin": null,
            "max_height": null,
            "max_width": null,
            "min_height": null,
            "min_width": null,
            "object_fit": null,
            "object_position": null,
            "order": null,
            "overflow": null,
            "overflow_x": null,
            "overflow_y": null,
            "padding": null,
            "right": null,
            "top": null,
            "visibility": null,
            "width": null
          }
        },
        "85d8e7003c754833a09ca56c87345a52": {
          "model_module": "@jupyter-widgets/controls",
          "model_module_version": "1.5.0",
          "model_name": "HTMLModel",
          "state": {
            "_dom_classes": [],
            "_model_module": "@jupyter-widgets/controls",
            "_model_module_version": "1.5.0",
            "_model_name": "HTMLModel",
            "_view_count": null,
            "_view_module": "@jupyter-widgets/controls",
            "_view_module_version": "1.5.0",
            "_view_name": "HTMLView",
            "description": "",
            "description_tooltip": null,
            "layout": "IPY_MODEL_dcf76cf89bee4e5ab9f9ee5bff56ee15",
            "placeholder": "​",
            "style": "IPY_MODEL_373906f2018a4da3ad4f98756f83f70d",
            "value": "model.safetensors: 100%"
          }
        },
        "9444de1b029e42ab802ee61a7a735852": {
          "model_module": "@jupyter-widgets/base",
          "model_module_version": "1.2.0",
          "model_name": "LayoutModel",
          "state": {
            "_model_module": "@jupyter-widgets/base",
            "_model_module_version": "1.2.0",
            "_model_name": "LayoutModel",
            "_view_count": null,
            "_view_module": "@jupyter-widgets/base",
            "_view_module_version": "1.2.0",
            "_view_name": "LayoutView",
            "align_content": null,
            "align_items": null,
            "align_self": null,
            "border": null,
            "bottom": null,
            "display": null,
            "flex": null,
            "flex_flow": null,
            "grid_area": null,
            "grid_auto_columns": null,
            "grid_auto_flow": null,
            "grid_auto_rows": null,
            "grid_column": null,
            "grid_gap": null,
            "grid_row": null,
            "grid_template_areas": null,
            "grid_template_columns": null,
            "grid_template_rows": null,
            "height": null,
            "justify_content": null,
            "justify_items": null,
            "left": null,
            "margin": null,
            "max_height": null,
            "max_width": null,
            "min_height": null,
            "min_width": null,
            "object_fit": null,
            "object_position": null,
            "order": null,
            "overflow": null,
            "overflow_x": null,
            "overflow_y": null,
            "padding": null,
            "right": null,
            "top": null,
            "visibility": null,
            "width": null
          }
        },
        "9b64e1d67023457e9ff11103625b1024": {
          "model_module": "@jupyter-widgets/base",
          "model_module_version": "1.2.0",
          "model_name": "LayoutModel",
          "state": {
            "_model_module": "@jupyter-widgets/base",
            "_model_module_version": "1.2.0",
            "_model_name": "LayoutModel",
            "_view_count": null,
            "_view_module": "@jupyter-widgets/base",
            "_view_module_version": "1.2.0",
            "_view_name": "LayoutView",
            "align_content": null,
            "align_items": null,
            "align_self": null,
            "border": null,
            "bottom": null,
            "display": null,
            "flex": null,
            "flex_flow": null,
            "grid_area": null,
            "grid_auto_columns": null,
            "grid_auto_flow": null,
            "grid_auto_rows": null,
            "grid_column": null,
            "grid_gap": null,
            "grid_row": null,
            "grid_template_areas": null,
            "grid_template_columns": null,
            "grid_template_rows": null,
            "height": null,
            "justify_content": null,
            "justify_items": null,
            "left": null,
            "margin": null,
            "max_height": null,
            "max_width": null,
            "min_height": null,
            "min_width": null,
            "object_fit": null,
            "object_position": null,
            "order": null,
            "overflow": null,
            "overflow_x": null,
            "overflow_y": null,
            "padding": null,
            "right": null,
            "top": null,
            "visibility": null,
            "width": null
          }
        },
        "a063ce846b8c4f8d9e53ff7aa97c7ce1": {
          "model_module": "@jupyter-widgets/base",
          "model_module_version": "1.2.0",
          "model_name": "LayoutModel",
          "state": {
            "_model_module": "@jupyter-widgets/base",
            "_model_module_version": "1.2.0",
            "_model_name": "LayoutModel",
            "_view_count": null,
            "_view_module": "@jupyter-widgets/base",
            "_view_module_version": "1.2.0",
            "_view_name": "LayoutView",
            "align_content": null,
            "align_items": null,
            "align_self": null,
            "border": null,
            "bottom": null,
            "display": null,
            "flex": null,
            "flex_flow": null,
            "grid_area": null,
            "grid_auto_columns": null,
            "grid_auto_flow": null,
            "grid_auto_rows": null,
            "grid_column": null,
            "grid_gap": null,
            "grid_row": null,
            "grid_template_areas": null,
            "grid_template_columns": null,
            "grid_template_rows": null,
            "height": null,
            "justify_content": null,
            "justify_items": null,
            "left": null,
            "margin": null,
            "max_height": null,
            "max_width": null,
            "min_height": null,
            "min_width": null,
            "object_fit": null,
            "object_position": null,
            "order": null,
            "overflow": null,
            "overflow_x": null,
            "overflow_y": null,
            "padding": null,
            "right": null,
            "top": null,
            "visibility": null,
            "width": null
          }
        },
        "a094f0f8b4d64f159a521db2973960d7": {
          "model_module": "@jupyter-widgets/controls",
          "model_module_version": "1.5.0",
          "model_name": "HTMLModel",
          "state": {
            "_dom_classes": [],
            "_model_module": "@jupyter-widgets/controls",
            "_model_module_version": "1.5.0",
            "_model_name": "HTMLModel",
            "_view_count": null,
            "_view_module": "@jupyter-widgets/controls",
            "_view_module_version": "1.5.0",
            "_view_name": "HTMLView",
            "description": "",
            "description_tooltip": null,
            "layout": "IPY_MODEL_5c2794b273344e1492da6e0d34f653ca",
            "placeholder": "​",
            "style": "IPY_MODEL_72af3ee7177649349144612e6a2d956e",
            "value": "tokenizer_config.json: 100%"
          }
        },
        "a0a15fa3af8d42ae8a579b15d40220ce": {
          "model_module": "@jupyter-widgets/controls",
          "model_module_version": "1.5.0",
          "model_name": "HBoxModel",
          "state": {
            "_dom_classes": [],
            "_model_module": "@jupyter-widgets/controls",
            "_model_module_version": "1.5.0",
            "_model_name": "HBoxModel",
            "_view_count": null,
            "_view_module": "@jupyter-widgets/controls",
            "_view_module_version": "1.5.0",
            "_view_name": "HBoxView",
            "box_style": "",
            "children": [
              "IPY_MODEL_56862e8b1c5345de9ddc6279394b9d0d",
              "IPY_MODEL_2d9bdef4b5e34abdb6bfb2f9015158b9",
              "IPY_MODEL_6d1e4f9bab7349c1b6a761ac46d67332"
            ],
            "layout": "IPY_MODEL_ec494523c8364f7baace7058cbce5a9c"
          }
        },
        "a1b3197206294b4e98772c9674d7811f": {
          "model_module": "@jupyter-widgets/controls",
          "model_module_version": "1.5.0",
          "model_name": "DescriptionStyleModel",
          "state": {
            "_model_module": "@jupyter-widgets/controls",
            "_model_module_version": "1.5.0",
            "_model_name": "DescriptionStyleModel",
            "_view_count": null,
            "_view_module": "@jupyter-widgets/base",
            "_view_module_version": "1.2.0",
            "_view_name": "StyleView",
            "description_width": ""
          }
        },
        "a856a261b82c4ce1b66871e18c81f6a7": {
          "model_module": "@jupyter-widgets/base",
          "model_module_version": "1.2.0",
          "model_name": "LayoutModel",
          "state": {
            "_model_module": "@jupyter-widgets/base",
            "_model_module_version": "1.2.0",
            "_model_name": "LayoutModel",
            "_view_count": null,
            "_view_module": "@jupyter-widgets/base",
            "_view_module_version": "1.2.0",
            "_view_name": "LayoutView",
            "align_content": null,
            "align_items": null,
            "align_self": null,
            "border": null,
            "bottom": null,
            "display": null,
            "flex": null,
            "flex_flow": null,
            "grid_area": null,
            "grid_auto_columns": null,
            "grid_auto_flow": null,
            "grid_auto_rows": null,
            "grid_column": null,
            "grid_gap": null,
            "grid_row": null,
            "grid_template_areas": null,
            "grid_template_columns": null,
            "grid_template_rows": null,
            "height": null,
            "justify_content": null,
            "justify_items": null,
            "left": null,
            "margin": null,
            "max_height": null,
            "max_width": null,
            "min_height": null,
            "min_width": null,
            "object_fit": null,
            "object_position": null,
            "order": null,
            "overflow": null,
            "overflow_x": null,
            "overflow_y": null,
            "padding": null,
            "right": null,
            "top": null,
            "visibility": null,
            "width": null
          }
        },
        "b27ccfd06e9b491a8f8da36c7a2e4b45": {
          "model_module": "@jupyter-widgets/base",
          "model_module_version": "1.2.0",
          "model_name": "LayoutModel",
          "state": {
            "_model_module": "@jupyter-widgets/base",
            "_model_module_version": "1.2.0",
            "_model_name": "LayoutModel",
            "_view_count": null,
            "_view_module": "@jupyter-widgets/base",
            "_view_module_version": "1.2.0",
            "_view_name": "LayoutView",
            "align_content": null,
            "align_items": null,
            "align_self": null,
            "border": null,
            "bottom": null,
            "display": null,
            "flex": null,
            "flex_flow": null,
            "grid_area": null,
            "grid_auto_columns": null,
            "grid_auto_flow": null,
            "grid_auto_rows": null,
            "grid_column": null,
            "grid_gap": null,
            "grid_row": null,
            "grid_template_areas": null,
            "grid_template_columns": null,
            "grid_template_rows": null,
            "height": null,
            "justify_content": null,
            "justify_items": null,
            "left": null,
            "margin": null,
            "max_height": null,
            "max_width": null,
            "min_height": null,
            "min_width": null,
            "object_fit": null,
            "object_position": null,
            "order": null,
            "overflow": null,
            "overflow_x": null,
            "overflow_y": null,
            "padding": null,
            "right": null,
            "top": null,
            "visibility": null,
            "width": null
          }
        },
        "ba585afa2b6f47e1aeb495a27d1c3528": {
          "model_module": "@jupyter-widgets/controls",
          "model_module_version": "1.5.0",
          "model_name": "HBoxModel",
          "state": {
            "_dom_classes": [],
            "_model_module": "@jupyter-widgets/controls",
            "_model_module_version": "1.5.0",
            "_model_name": "HBoxModel",
            "_view_count": null,
            "_view_module": "@jupyter-widgets/controls",
            "_view_module_version": "1.5.0",
            "_view_name": "HBoxView",
            "box_style": "",
            "children": [
              "IPY_MODEL_3ac900bb6c794374aa00e8cd6deed221",
              "IPY_MODEL_36f9e356af084719bd6db359bca871b9",
              "IPY_MODEL_f3160910852d4aed86c6a2749f58adc4"
            ],
            "layout": "IPY_MODEL_9444de1b029e42ab802ee61a7a735852"
          }
        },
        "c36bb49c153c44978fb296f99351a9f6": {
          "model_module": "@jupyter-widgets/base",
          "model_module_version": "1.2.0",
          "model_name": "LayoutModel",
          "state": {
            "_model_module": "@jupyter-widgets/base",
            "_model_module_version": "1.2.0",
            "_model_name": "LayoutModel",
            "_view_count": null,
            "_view_module": "@jupyter-widgets/base",
            "_view_module_version": "1.2.0",
            "_view_name": "LayoutView",
            "align_content": null,
            "align_items": null,
            "align_self": null,
            "border": null,
            "bottom": null,
            "display": null,
            "flex": null,
            "flex_flow": null,
            "grid_area": null,
            "grid_auto_columns": null,
            "grid_auto_flow": null,
            "grid_auto_rows": null,
            "grid_column": null,
            "grid_gap": null,
            "grid_row": null,
            "grid_template_areas": null,
            "grid_template_columns": null,
            "grid_template_rows": null,
            "height": null,
            "justify_content": null,
            "justify_items": null,
            "left": null,
            "margin": null,
            "max_height": null,
            "max_width": null,
            "min_height": null,
            "min_width": null,
            "object_fit": null,
            "object_position": null,
            "order": null,
            "overflow": null,
            "overflow_x": null,
            "overflow_y": null,
            "padding": null,
            "right": null,
            "top": null,
            "visibility": null,
            "width": null
          }
        },
        "c8d71352ceab49d9bb3ab826dd2f2d7f": {
          "model_module": "@jupyter-widgets/controls",
          "model_module_version": "1.5.0",
          "model_name": "ProgressStyleModel",
          "state": {
            "_model_module": "@jupyter-widgets/controls",
            "_model_module_version": "1.5.0",
            "_model_name": "ProgressStyleModel",
            "_view_count": null,
            "_view_module": "@jupyter-widgets/base",
            "_view_module_version": "1.2.0",
            "_view_name": "StyleView",
            "bar_color": null,
            "description_width": ""
          }
        },
        "ccdb60202388450e9ef5ceadb3d637dd": {
          "model_module": "@jupyter-widgets/base",
          "model_module_version": "1.2.0",
          "model_name": "LayoutModel",
          "state": {
            "_model_module": "@jupyter-widgets/base",
            "_model_module_version": "1.2.0",
            "_model_name": "LayoutModel",
            "_view_count": null,
            "_view_module": "@jupyter-widgets/base",
            "_view_module_version": "1.2.0",
            "_view_name": "LayoutView",
            "align_content": null,
            "align_items": null,
            "align_self": null,
            "border": null,
            "bottom": null,
            "display": null,
            "flex": null,
            "flex_flow": null,
            "grid_area": null,
            "grid_auto_columns": null,
            "grid_auto_flow": null,
            "grid_auto_rows": null,
            "grid_column": null,
            "grid_gap": null,
            "grid_row": null,
            "grid_template_areas": null,
            "grid_template_columns": null,
            "grid_template_rows": null,
            "height": null,
            "justify_content": null,
            "justify_items": null,
            "left": null,
            "margin": null,
            "max_height": null,
            "max_width": null,
            "min_height": null,
            "min_width": null,
            "object_fit": null,
            "object_position": null,
            "order": null,
            "overflow": null,
            "overflow_x": null,
            "overflow_y": null,
            "padding": null,
            "right": null,
            "top": null,
            "visibility": null,
            "width": null
          }
        },
        "d169ba961a714ad6960d1bd340235a3b": {
          "model_module": "@jupyter-widgets/base",
          "model_module_version": "1.2.0",
          "model_name": "LayoutModel",
          "state": {
            "_model_module": "@jupyter-widgets/base",
            "_model_module_version": "1.2.0",
            "_model_name": "LayoutModel",
            "_view_count": null,
            "_view_module": "@jupyter-widgets/base",
            "_view_module_version": "1.2.0",
            "_view_name": "LayoutView",
            "align_content": null,
            "align_items": null,
            "align_self": null,
            "border": null,
            "bottom": null,
            "display": null,
            "flex": null,
            "flex_flow": null,
            "grid_area": null,
            "grid_auto_columns": null,
            "grid_auto_flow": null,
            "grid_auto_rows": null,
            "grid_column": null,
            "grid_gap": null,
            "grid_row": null,
            "grid_template_areas": null,
            "grid_template_columns": null,
            "grid_template_rows": null,
            "height": null,
            "justify_content": null,
            "justify_items": null,
            "left": null,
            "margin": null,
            "max_height": null,
            "max_width": null,
            "min_height": null,
            "min_width": null,
            "object_fit": null,
            "object_position": null,
            "order": null,
            "overflow": null,
            "overflow_x": null,
            "overflow_y": null,
            "padding": null,
            "right": null,
            "top": null,
            "visibility": null,
            "width": null
          }
        },
        "dcf76cf89bee4e5ab9f9ee5bff56ee15": {
          "model_module": "@jupyter-widgets/base",
          "model_module_version": "1.2.0",
          "model_name": "LayoutModel",
          "state": {
            "_model_module": "@jupyter-widgets/base",
            "_model_module_version": "1.2.0",
            "_model_name": "LayoutModel",
            "_view_count": null,
            "_view_module": "@jupyter-widgets/base",
            "_view_module_version": "1.2.0",
            "_view_name": "LayoutView",
            "align_content": null,
            "align_items": null,
            "align_self": null,
            "border": null,
            "bottom": null,
            "display": null,
            "flex": null,
            "flex_flow": null,
            "grid_area": null,
            "grid_auto_columns": null,
            "grid_auto_flow": null,
            "grid_auto_rows": null,
            "grid_column": null,
            "grid_gap": null,
            "grid_row": null,
            "grid_template_areas": null,
            "grid_template_columns": null,
            "grid_template_rows": null,
            "height": null,
            "justify_content": null,
            "justify_items": null,
            "left": null,
            "margin": null,
            "max_height": null,
            "max_width": null,
            "min_height": null,
            "min_width": null,
            "object_fit": null,
            "object_position": null,
            "order": null,
            "overflow": null,
            "overflow_x": null,
            "overflow_y": null,
            "padding": null,
            "right": null,
            "top": null,
            "visibility": null,
            "width": null
          }
        },
        "e4815174470f431e8db6ace151e983d0": {
          "model_module": "@jupyter-widgets/controls",
          "model_module_version": "1.5.0",
          "model_name": "DescriptionStyleModel",
          "state": {
            "_model_module": "@jupyter-widgets/controls",
            "_model_module_version": "1.5.0",
            "_model_name": "DescriptionStyleModel",
            "_view_count": null,
            "_view_module": "@jupyter-widgets/base",
            "_view_module_version": "1.2.0",
            "_view_name": "StyleView",
            "description_width": ""
          }
        },
        "e8d708b4fae04d3195472c1fed266dd1": {
          "model_module": "@jupyter-widgets/controls",
          "model_module_version": "1.5.0",
          "model_name": "ProgressStyleModel",
          "state": {
            "_model_module": "@jupyter-widgets/controls",
            "_model_module_version": "1.5.0",
            "_model_name": "ProgressStyleModel",
            "_view_count": null,
            "_view_module": "@jupyter-widgets/base",
            "_view_module_version": "1.2.0",
            "_view_name": "StyleView",
            "bar_color": null,
            "description_width": ""
          }
        },
        "ec494523c8364f7baace7058cbce5a9c": {
          "model_module": "@jupyter-widgets/base",
          "model_module_version": "1.2.0",
          "model_name": "LayoutModel",
          "state": {
            "_model_module": "@jupyter-widgets/base",
            "_model_module_version": "1.2.0",
            "_model_name": "LayoutModel",
            "_view_count": null,
            "_view_module": "@jupyter-widgets/base",
            "_view_module_version": "1.2.0",
            "_view_name": "LayoutView",
            "align_content": null,
            "align_items": null,
            "align_self": null,
            "border": null,
            "bottom": null,
            "display": null,
            "flex": null,
            "flex_flow": null,
            "grid_area": null,
            "grid_auto_columns": null,
            "grid_auto_flow": null,
            "grid_auto_rows": null,
            "grid_column": null,
            "grid_gap": null,
            "grid_row": null,
            "grid_template_areas": null,
            "grid_template_columns": null,
            "grid_template_rows": null,
            "height": null,
            "justify_content": null,
            "justify_items": null,
            "left": null,
            "margin": null,
            "max_height": null,
            "max_width": null,
            "min_height": null,
            "min_width": null,
            "object_fit": null,
            "object_position": null,
            "order": null,
            "overflow": null,
            "overflow_x": null,
            "overflow_y": null,
            "padding": null,
            "right": null,
            "top": null,
            "visibility": null,
            "width": null
          }
        },
        "f2ee206d213346e9a4d39fc2a80edb41": {
          "model_module": "@jupyter-widgets/controls",
          "model_module_version": "1.5.0",
          "model_name": "FloatProgressModel",
          "state": {
            "_dom_classes": [],
            "_model_module": "@jupyter-widgets/controls",
            "_model_module_version": "1.5.0",
            "_model_name": "FloatProgressModel",
            "_view_count": null,
            "_view_module": "@jupyter-widgets/controls",
            "_view_module_version": "1.5.0",
            "_view_name": "ProgressView",
            "bar_style": "success",
            "description": "",
            "description_tooltip": null,
            "layout": "IPY_MODEL_a856a261b82c4ce1b66871e18c81f6a7",
            "max": 48,
            "min": 0,
            "orientation": "horizontal",
            "style": "IPY_MODEL_e8d708b4fae04d3195472c1fed266dd1",
            "value": 48
          }
        },
        "f3160910852d4aed86c6a2749f58adc4": {
          "model_module": "@jupyter-widgets/controls",
          "model_module_version": "1.5.0",
          "model_name": "HTMLModel",
          "state": {
            "_dom_classes": [],
            "_model_module": "@jupyter-widgets/controls",
            "_model_module_version": "1.5.0",
            "_model_name": "HTMLModel",
            "_view_count": null,
            "_view_module": "@jupyter-widgets/controls",
            "_view_module_version": "1.5.0",
            "_view_name": "HTMLView",
            "description": "",
            "description_tooltip": null,
            "layout": "IPY_MODEL_ccdb60202388450e9ef5ceadb3d637dd",
            "placeholder": "​",
            "style": "IPY_MODEL_0531dfcb63b34dd1be42ab50413f58ad",
            "value": " 232k/232k [00:00&lt;00:00, 6.42MB/s]"
          }
        }
      }
    }
  },
  "nbformat": 4,
  "nbformat_minor": 0
}
